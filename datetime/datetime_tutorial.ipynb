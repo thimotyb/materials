{
  "nbformat": 4,
  "nbformat_minor": 0,
  "metadata": {
    "colab": {
      "name": "datetime-tutorial.ipynb",
      "provenance": [],
      "collapsed_sections": [],
      "toc_visible": true,
      "authorship_tag": "ABX9TyOYfhahS6zubytMftpBcC/1",
      "include_colab_link": true
    },
    "kernelspec": {
      "name": "python3",
      "display_name": "Python 3"
    }
  },
  "cells": [
    {
      "cell_type": "markdown",
      "metadata": {
        "id": "view-in-github",
        "colab_type": "text"
      },
      "source": [
        "<a href=\"https://colab.research.google.com/github/thimotyb/materials/blob/master/datetime/datetime_tutorial.ipynb\" target=\"_parent\"><img src=\"https://colab.research.google.com/assets/colab-badge.svg\" alt=\"Open In Colab\"/></a>"
      ]
    },
    {
      "cell_type": "markdown",
      "metadata": {
        "id": "WtVkGekdiz2V"
      },
      "source": [
        "## Time Module"
      ]
    },
    {
      "cell_type": "code",
      "metadata": {
        "id": "dYrpz9dIWgog",
        "colab": {
          "base_uri": "https://localhost:8080/"
        },
        "outputId": "b32d5a91-dfa1-4bc3-cf5b-b06a31a71936"
      },
      "source": [
        "import time\n",
        "# System Epoch\n",
        "time.gmtime(1635852972)"
      ],
      "execution_count": 3,
      "outputs": [
        {
          "output_type": "execute_result",
          "data": {
            "text/plain": [
              "time.struct_time(tm_year=2021, tm_mon=11, tm_mday=2, tm_hour=11, tm_min=36, tm_sec=12, tm_wday=1, tm_yday=306, tm_isdst=0)"
            ]
          },
          "metadata": {},
          "execution_count": 3
        }
      ]
    },
    {
      "cell_type": "code",
      "metadata": {
        "id": "CRAMdv5RjAbb",
        "colab": {
          "base_uri": "https://localhost:8080/"
        },
        "outputId": "fcd3b72e-b32e-47ab-be38-3585269ac8bd"
      },
      "source": [
        "from time import time\n",
        "# seconds since Epoch\n",
        "time()"
      ],
      "execution_count": 2,
      "outputs": [
        {
          "output_type": "execute_result",
          "data": {
            "text/plain": [
              "1635852972.2367325"
            ]
          },
          "metadata": {},
          "execution_count": 2
        }
      ]
    },
    {
      "cell_type": "code",
      "metadata": {
        "id": "GX2nUCtyeihR",
        "outputId": "865d7ab5-33f2-4bcb-e6e7-d2b6470d01d2",
        "colab": {
          "base_uri": "https://localhost:8080/"
        }
      },
      "source": [
        "type(time.time())"
      ],
      "execution_count": 16,
      "outputs": [
        {
          "output_type": "execute_result",
          "data": {
            "text/plain": [
              "float"
            ]
          },
          "metadata": {},
          "execution_count": 16
        }
      ]
    },
    {
      "cell_type": "code",
      "metadata": {
        "id": "pAKVv3VAm_sW",
        "colab": {
          "base_uri": "https://localhost:8080/"
        },
        "outputId": "f38d6ea2-7b99-4053-8c10-6be7fae5a415"
      },
      "source": [
        "import time\n",
        "# System Epoch\n",
        "time.gmtime(time.time()).tm_mon\n"
      ],
      "execution_count": 4,
      "outputs": [
        {
          "output_type": "execute_result",
          "data": {
            "text/plain": [
              "11"
            ]
          },
          "metadata": {},
          "execution_count": 4
        }
      ]
    },
    {
      "cell_type": "code",
      "metadata": {
        "id": "DMFikKK6jMp8",
        "colab": {
          "base_uri": "https://localhost:8080/",
          "height": 35
        },
        "outputId": "aaa74a0e-f789-4665-e922-02d353410fa7"
      },
      "source": [
        "from time import time, ctime\n",
        "t = time()\n",
        "ctime(t)"
      ],
      "execution_count": 5,
      "outputs": [
        {
          "output_type": "execute_result",
          "data": {
            "application/vnd.google.colaboratory.intrinsic+json": {
              "type": "string"
            },
            "text/plain": [
              "'Tue Nov  2 11:38:23 2021'"
            ]
          },
          "metadata": {},
          "execution_count": 5
        }
      ]
    },
    {
      "cell_type": "code",
      "metadata": {
        "id": "T_Zy_spioAl6",
        "colab": {
          "base_uri": "https://localhost:8080/"
        },
        "outputId": "71677f3c-175c-4316-f8e6-3c50a8a2afe0"
      },
      "source": [
        "import time\n",
        "time.localtime()"
      ],
      "execution_count": 8,
      "outputs": [
        {
          "output_type": "execute_result",
          "data": {
            "text/plain": [
              "time.struct_time(tm_year=2021, tm_mon=11, tm_mday=2, tm_hour=11, tm_min=41, tm_sec=35, tm_wday=1, tm_yday=306, tm_isdst=0)"
            ]
          },
          "metadata": {},
          "execution_count": 8
        }
      ]
    },
    {
      "cell_type": "code",
      "metadata": {
        "id": "b0Ts5v6rjYJb",
        "colab": {
          "base_uri": "https://localhost:8080/",
          "height": 35
        },
        "outputId": "11b08500-c6cd-413f-8aa9-3a4d3d797aaa"
      },
      "source": [
        "import time\n",
        "current_local = time.localtime()\n",
        "current_local.tm_zone"
      ],
      "execution_count": 9,
      "outputs": [
        {
          "output_type": "execute_result",
          "data": {
            "application/vnd.google.colaboratory.intrinsic+json": {
              "type": "string"
            },
            "text/plain": [
              "'UTC'"
            ]
          },
          "metadata": {},
          "execution_count": 9
        }
      ]
    },
    {
      "cell_type": "code",
      "metadata": {
        "id": "_R-HJFuAkEaq",
        "colab": {
          "base_uri": "https://localhost:8080/"
        },
        "outputId": "1c912be7-370f-4b1e-b5c9-ab6015bc1cc3"
      },
      "source": [
        "# Suspending execution\n",
        "from time import sleep, strftime\n",
        "mytimes = []\n",
        "mytimes.append(strftime('%c'))\n",
        "sleep(10)\n",
        "mytimes.append(strftime('%c'))\n",
        "mytimes"
      ],
      "execution_count": 10,
      "outputs": [
        {
          "output_type": "execute_result",
          "data": {
            "text/plain": [
              "['Tue Nov  2 11:44:48 2021', 'Tue Nov  2 11:44:58 2021']"
            ]
          },
          "metadata": {},
          "execution_count": 10
        }
      ]
    },
    {
      "cell_type": "code",
      "metadata": {
        "id": "SRCPcfrjo2kV",
        "colab": {
          "base_uri": "https://localhost:8080/",
          "height": 35
        },
        "outputId": "1f0c8638-0283-4cae-c9ba-7623847cd0a8"
      },
      "source": [
        "strftime('%Y-%m-%d %H:%M %z')"
      ],
      "execution_count": 12,
      "outputs": [
        {
          "output_type": "execute_result",
          "data": {
            "application/vnd.google.colaboratory.intrinsic+json": {
              "type": "string"
            },
            "text/plain": [
              "'2021-11-02 11:45 +0000'"
            ]
          },
          "metadata": {},
          "execution_count": 12
        }
      ]
    },
    {
      "cell_type": "code",
      "metadata": {
        "id": "eGxZGzfxkkTp",
        "colab": {
          "base_uri": "https://localhost:8080/"
        },
        "outputId": "737448d3-3253-4097-8ebd-6af86b00f7c0"
      },
      "source": [
        "# Measuring Performance\n",
        "from time import perf_counter\n",
        "def longrunning_function():\n",
        "     for i in range(1, 11):\n",
        "         time.sleep(i / i ** 2)\n",
        "\n",
        "start = perf_counter()\n",
        "longrunning_function()\n",
        "end = perf_counter()\n",
        "execution_time = (end - start)\n",
        "execution_time"
      ],
      "execution_count": 13,
      "outputs": [
        {
          "output_type": "execute_result",
          "data": {
            "text/plain": [
              "2.9329623099999935"
            ]
          },
          "metadata": {},
          "execution_count": 13
        }
      ]
    },
    {
      "cell_type": "markdown",
      "metadata": {
        "id": "E1u2rG3_WyNG"
      },
      "source": [
        "### Date Time Tutorial"
      ]
    },
    {
      "cell_type": "code",
      "metadata": {
        "id": "NkMdnL7FWrxG",
        "colab": {
          "base_uri": "https://localhost:8080/"
        },
        "outputId": "ccf89db5-40dc-465e-9aae-ce9f0e1d0c7b"
      },
      "source": [
        "# import datetime class from datetime module\n",
        "from datetime import datetime\n",
        "\n",
        "# get current date\n",
        "datetime_object = datetime.now()\n",
        "print(datetime_object)\n",
        "print('Type :- ',type(datetime_object))"
      ],
      "execution_count": 17,
      "outputs": [
        {
          "output_type": "stream",
          "name": "stdout",
          "text": [
            "2021-11-02 11:48:30.719299\n",
            "Type :-  <class 'datetime.datetime'>\n"
          ]
        }
      ]
    },
    {
      "cell_type": "code",
      "metadata": {
        "id": "cUdgu8ArWw8t",
        "colab": {
          "base_uri": "https://localhost:8080/"
        },
        "outputId": "843ba1f0-45d0-4c38-e39c-3fda6c77fc86"
      },
      "source": [
        "# Parse a date from a string\n",
        "my_string = '2021-11-02'\n",
        "\n",
        "# See https://strftime.org/\n",
        "# Create date object in given time format yyyy-mm-dd\n",
        "my_date = datetime.strptime(my_string, \"%Y-%m-%d\")\n",
        "\n",
        "print(my_date)\n",
        "print('Type: ',type(my_date))"
      ],
      "execution_count": 23,
      "outputs": [
        {
          "output_type": "stream",
          "name": "stdout",
          "text": [
            "2021-11-02 00:00:00\n",
            "Type:  <class 'datetime.datetime'>\n"
          ]
        }
      ]
    },
    {
      "cell_type": "code",
      "metadata": {
        "id": "WT_zoGEta4TS",
        "colab": {
          "base_uri": "https://localhost:8080/"
        },
        "outputId": "b51f35bd-78c1-4b6f-cfe4-400474bd4faa"
      },
      "source": [
        "# Datetime class attributes\n",
        "print('Month: ', my_date.month) # To Get month from date\n",
        "print('Year: ', my_date.year) # To Get month from year"
      ],
      "execution_count": 19,
      "outputs": [
        {
          "output_type": "stream",
          "name": "stdout",
          "text": [
            "Month:  10\n",
            "Year:  2019\n"
          ]
        }
      ]
    },
    {
      "cell_type": "code",
      "metadata": {
        "id": "1XndsfgHbBUr",
        "colab": {
          "base_uri": "https://localhost:8080/"
        },
        "outputId": "6ca9c7fb-313f-4a1f-e08b-905beb8962e3"
      },
      "source": [
        "# import calendar module\n",
        "import calendar\n",
        "print('Day of Month:', my_date.day)\n",
        "\n",
        "# to get name of day(in number) from date\n",
        "print('Day of Week (number): ', my_date.weekday())\n",
        "\n",
        "# to get name of day from date\n",
        "print('Day of Week (name): ', calendar.day_name[my_date.weekday()])"
      ],
      "execution_count": 24,
      "outputs": [
        {
          "output_type": "stream",
          "name": "stdout",
          "text": [
            "Day of Month: 2\n",
            "Day of Week (number):  1\n",
            "Day of Week (name):  Tuesday\n"
          ]
        }
      ]
    },
    {
      "cell_type": "code",
      "metadata": {
        "id": "HVrw-nVCqtbI",
        "colab": {
          "base_uri": "https://localhost:8080/"
        },
        "outputId": "7acefdcd-bbb8-41df-cf9f-9869fb761b96"
      },
      "source": [
        "list(calendar.day_name)"
      ],
      "execution_count": 21,
      "outputs": [
        {
          "output_type": "execute_result",
          "data": {
            "text/plain": [
              "['Monday', 'Tuesday', 'Wednesday', 'Thursday', 'Friday', 'Saturday', 'Sunday']"
            ]
          },
          "metadata": {},
          "execution_count": 21
        }
      ]
    },
    {
      "cell_type": "code",
      "metadata": {
        "id": "MWFaDEJ7cP5B",
        "colab": {
          "base_uri": "https://localhost:8080/"
        },
        "outputId": "9c10f3eb-99b5-4abf-9b8e-29ec24745dc9"
      },
      "source": [
        "\n",
        "todays_date = datetime.now()\n",
        "\n",
        "# to get hour from datetime\n",
        "print('Hour: ', todays_date.hour)\n",
        "\n",
        "# to get minute from datetime\n",
        "print('Minute: ', todays_date.minute)"
      ],
      "execution_count": 26,
      "outputs": [
        {
          "output_type": "stream",
          "name": "stdout",
          "text": [
            "Hour:  11\n",
            "Minute:  52\n"
          ]
        }
      ]
    },
    {
      "cell_type": "code",
      "metadata": {
        "id": "BbGM9XRucW2U",
        "colab": {
          "base_uri": "https://localhost:8080/"
        },
        "outputId": "a342244c-6740-4ec8-ce64-0a616315295d"
      },
      "source": [
        "# Return a 3-tuple, (ISO year, ISO week number, ISO weekday).\n",
        "todays_date.isocalendar() # ISO weekday is 1-based"
      ],
      "execution_count": 27,
      "outputs": [
        {
          "output_type": "execute_result",
          "data": {
            "text/plain": [
              "(2021, 44, 2)"
            ]
          },
          "metadata": {},
          "execution_count": 27
        }
      ]
    },
    {
      "cell_type": "code",
      "metadata": {
        "id": "CNoa-D14r6ei",
        "colab": {
          "base_uri": "https://localhost:8080/"
        },
        "outputId": "533e7bfa-0d36-4def-d533-dc6c78eb7f0c"
      },
      "source": [
        "todays_date.isocalendar()[1]"
      ],
      "execution_count": 28,
      "outputs": [
        {
          "output_type": "execute_result",
          "data": {
            "text/plain": [
              "44"
            ]
          },
          "metadata": {},
          "execution_count": 28
        }
      ]
    },
    {
      "cell_type": "code",
      "metadata": {
        "id": "7mb_Hav1clC_",
        "colab": {
          "base_uri": "https://localhost:8080/"
        },
        "outputId": "302d4678-a58b-465d-d2ea-97dbcffe0ed9"
      },
      "source": [
        "# Using locale\n",
        "import locale\n",
        "import datetime\n",
        "\n",
        "locale.locale_alias\n",
        "\n"
      ],
      "execution_count": 29,
      "outputs": [
        {
          "output_type": "execute_result",
          "data": {
            "text/plain": [
              "{'a3': 'az_AZ.KOI8-C',\n",
              " 'a3_az': 'az_AZ.KOI8-C',\n",
              " 'a3_az.koic': 'az_AZ.KOI8-C',\n",
              " 'aa_dj': 'aa_DJ.ISO8859-1',\n",
              " 'aa_er': 'aa_ER.UTF-8',\n",
              " 'aa_et': 'aa_ET.UTF-8',\n",
              " 'af': 'af_ZA.ISO8859-1',\n",
              " 'af_za': 'af_ZA.ISO8859-1',\n",
              " 'agr_pe': 'agr_PE.UTF-8',\n",
              " 'ak_gh': 'ak_GH.UTF-8',\n",
              " 'am': 'am_ET.UTF-8',\n",
              " 'am_et': 'am_ET.UTF-8',\n",
              " 'american': 'en_US.ISO8859-1',\n",
              " 'an_es': 'an_ES.ISO8859-15',\n",
              " 'anp_in': 'anp_IN.UTF-8',\n",
              " 'ar': 'ar_AA.ISO8859-6',\n",
              " 'ar_aa': 'ar_AA.ISO8859-6',\n",
              " 'ar_ae': 'ar_AE.ISO8859-6',\n",
              " 'ar_bh': 'ar_BH.ISO8859-6',\n",
              " 'ar_dz': 'ar_DZ.ISO8859-6',\n",
              " 'ar_eg': 'ar_EG.ISO8859-6',\n",
              " 'ar_in': 'ar_IN.UTF-8',\n",
              " 'ar_iq': 'ar_IQ.ISO8859-6',\n",
              " 'ar_jo': 'ar_JO.ISO8859-6',\n",
              " 'ar_kw': 'ar_KW.ISO8859-6',\n",
              " 'ar_lb': 'ar_LB.ISO8859-6',\n",
              " 'ar_ly': 'ar_LY.ISO8859-6',\n",
              " 'ar_ma': 'ar_MA.ISO8859-6',\n",
              " 'ar_om': 'ar_OM.ISO8859-6',\n",
              " 'ar_qa': 'ar_QA.ISO8859-6',\n",
              " 'ar_sa': 'ar_SA.ISO8859-6',\n",
              " 'ar_sd': 'ar_SD.ISO8859-6',\n",
              " 'ar_ss': 'ar_SS.UTF-8',\n",
              " 'ar_sy': 'ar_SY.ISO8859-6',\n",
              " 'ar_tn': 'ar_TN.ISO8859-6',\n",
              " 'ar_ye': 'ar_YE.ISO8859-6',\n",
              " 'arabic': 'ar_AA.ISO8859-6',\n",
              " 'as': 'as_IN.UTF-8',\n",
              " 'as_in': 'as_IN.UTF-8',\n",
              " 'ast_es': 'ast_ES.ISO8859-15',\n",
              " 'ayc_pe': 'ayc_PE.UTF-8',\n",
              " 'az': 'az_AZ.ISO8859-9E',\n",
              " 'az_az': 'az_AZ.ISO8859-9E',\n",
              " 'az_az.iso88599e': 'az_AZ.ISO8859-9E',\n",
              " 'az_ir': 'az_IR.UTF-8',\n",
              " 'be': 'be_BY.CP1251',\n",
              " 'be@latin': 'be_BY.UTF-8@latin',\n",
              " 'be_bg.utf8': 'bg_BG.UTF-8',\n",
              " 'be_by': 'be_BY.CP1251',\n",
              " 'be_by@latin': 'be_BY.UTF-8@latin',\n",
              " 'bem_zm': 'bem_ZM.UTF-8',\n",
              " 'ber_dz': 'ber_DZ.UTF-8',\n",
              " 'ber_ma': 'ber_MA.UTF-8',\n",
              " 'bg': 'bg_BG.CP1251',\n",
              " 'bg_bg': 'bg_BG.CP1251',\n",
              " 'bhb_in.utf8': 'bhb_IN.UTF-8',\n",
              " 'bho_in': 'bho_IN.UTF-8',\n",
              " 'bho_np': 'bho_NP.UTF-8',\n",
              " 'bi_vu': 'bi_VU.UTF-8',\n",
              " 'bn_bd': 'bn_BD.UTF-8',\n",
              " 'bn_in': 'bn_IN.UTF-8',\n",
              " 'bo_cn': 'bo_CN.UTF-8',\n",
              " 'bo_in': 'bo_IN.UTF-8',\n",
              " 'bokmal': 'nb_NO.ISO8859-1',\n",
              " 'bokmål': 'nb_NO.ISO8859-1',\n",
              " 'br': 'br_FR.ISO8859-1',\n",
              " 'br_fr': 'br_FR.ISO8859-1',\n",
              " 'brx_in': 'brx_IN.UTF-8',\n",
              " 'bs': 'bs_BA.ISO8859-2',\n",
              " 'bs_ba': 'bs_BA.ISO8859-2',\n",
              " 'bulgarian': 'bg_BG.CP1251',\n",
              " 'byn_er': 'byn_ER.UTF-8',\n",
              " 'c': 'C',\n",
              " 'c-french': 'fr_CA.ISO8859-1',\n",
              " 'c.ascii': 'C',\n",
              " 'c.en': 'C',\n",
              " 'c.iso88591': 'en_US.ISO8859-1',\n",
              " 'c.utf8': 'en_US.UTF-8',\n",
              " 'c_c': 'C',\n",
              " 'c_c.c': 'C',\n",
              " 'ca': 'ca_ES.ISO8859-1',\n",
              " 'ca_ad': 'ca_AD.ISO8859-1',\n",
              " 'ca_es': 'ca_ES.ISO8859-1',\n",
              " 'ca_es@valencia': 'ca_ES.UTF-8@valencia',\n",
              " 'ca_fr': 'ca_FR.ISO8859-1',\n",
              " 'ca_it': 'ca_IT.ISO8859-1',\n",
              " 'catalan': 'ca_ES.ISO8859-1',\n",
              " 'ce_ru': 'ce_RU.UTF-8',\n",
              " 'cextend': 'en_US.ISO8859-1',\n",
              " 'chinese-s': 'zh_CN.eucCN',\n",
              " 'chinese-t': 'zh_TW.eucTW',\n",
              " 'chr_us': 'chr_US.UTF-8',\n",
              " 'ckb_iq': 'ckb_IQ.UTF-8',\n",
              " 'cmn_tw': 'cmn_TW.UTF-8',\n",
              " 'crh_ua': 'crh_UA.UTF-8',\n",
              " 'croatian': 'hr_HR.ISO8859-2',\n",
              " 'cs': 'cs_CZ.ISO8859-2',\n",
              " 'cs_cs': 'cs_CZ.ISO8859-2',\n",
              " 'cs_cz': 'cs_CZ.ISO8859-2',\n",
              " 'csb_pl': 'csb_PL.UTF-8',\n",
              " 'cv_ru': 'cv_RU.UTF-8',\n",
              " 'cy': 'cy_GB.ISO8859-1',\n",
              " 'cy_gb': 'cy_GB.ISO8859-1',\n",
              " 'cz': 'cs_CZ.ISO8859-2',\n",
              " 'cz_cz': 'cs_CZ.ISO8859-2',\n",
              " 'czech': 'cs_CZ.ISO8859-2',\n",
              " 'da': 'da_DK.ISO8859-1',\n",
              " 'da_dk': 'da_DK.ISO8859-1',\n",
              " 'danish': 'da_DK.ISO8859-1',\n",
              " 'dansk': 'da_DK.ISO8859-1',\n",
              " 'de': 'de_DE.ISO8859-1',\n",
              " 'de_at': 'de_AT.ISO8859-1',\n",
              " 'de_be': 'de_BE.ISO8859-1',\n",
              " 'de_ch': 'de_CH.ISO8859-1',\n",
              " 'de_de': 'de_DE.ISO8859-1',\n",
              " 'de_it': 'de_IT.ISO8859-1',\n",
              " 'de_li.utf8': 'de_LI.UTF-8',\n",
              " 'de_lu': 'de_LU.ISO8859-1',\n",
              " 'deutsch': 'de_DE.ISO8859-1',\n",
              " 'doi_in': 'doi_IN.UTF-8',\n",
              " 'dutch': 'nl_NL.ISO8859-1',\n",
              " 'dutch.iso88591': 'nl_BE.ISO8859-1',\n",
              " 'dv_mv': 'dv_MV.UTF-8',\n",
              " 'dz_bt': 'dz_BT.UTF-8',\n",
              " 'ee': 'ee_EE.ISO8859-4',\n",
              " 'ee_ee': 'ee_EE.ISO8859-4',\n",
              " 'eesti': 'et_EE.ISO8859-1',\n",
              " 'el': 'el_GR.ISO8859-7',\n",
              " 'el_cy': 'el_CY.ISO8859-7',\n",
              " 'el_gr': 'el_GR.ISO8859-7',\n",
              " 'el_gr@euro': 'el_GR.ISO8859-15',\n",
              " 'en': 'en_US.ISO8859-1',\n",
              " 'en_ag': 'en_AG.UTF-8',\n",
              " 'en_au': 'en_AU.ISO8859-1',\n",
              " 'en_be': 'en_BE.ISO8859-1',\n",
              " 'en_bw': 'en_BW.ISO8859-1',\n",
              " 'en_ca': 'en_CA.ISO8859-1',\n",
              " 'en_dk': 'en_DK.ISO8859-1',\n",
              " 'en_dl.utf8': 'en_DL.UTF-8',\n",
              " 'en_gb': 'en_GB.ISO8859-1',\n",
              " 'en_hk': 'en_HK.ISO8859-1',\n",
              " 'en_ie': 'en_IE.ISO8859-1',\n",
              " 'en_il': 'en_IL.UTF-8',\n",
              " 'en_in': 'en_IN.ISO8859-1',\n",
              " 'en_ng': 'en_NG.UTF-8',\n",
              " 'en_nz': 'en_NZ.ISO8859-1',\n",
              " 'en_ph': 'en_PH.ISO8859-1',\n",
              " 'en_sc.utf8': 'en_SC.UTF-8',\n",
              " 'en_sg': 'en_SG.ISO8859-1',\n",
              " 'en_uk': 'en_GB.ISO8859-1',\n",
              " 'en_us': 'en_US.ISO8859-1',\n",
              " 'en_us@euro@euro': 'en_US.ISO8859-15',\n",
              " 'en_za': 'en_ZA.ISO8859-1',\n",
              " 'en_zm': 'en_ZM.UTF-8',\n",
              " 'en_zw': 'en_ZW.ISO8859-1',\n",
              " 'en_zw.utf8': 'en_ZS.UTF-8',\n",
              " 'eng_gb': 'en_GB.ISO8859-1',\n",
              " 'english': 'en_EN.ISO8859-1',\n",
              " 'english.iso88591': 'en_US.ISO8859-1',\n",
              " 'english_uk': 'en_GB.ISO8859-1',\n",
              " 'english_united-states': 'en_US.ISO8859-1',\n",
              " 'english_united-states.437': 'C',\n",
              " 'english_us': 'en_US.ISO8859-1',\n",
              " 'eo': 'eo_XX.ISO8859-3',\n",
              " 'eo.utf8': 'eo.UTF-8',\n",
              " 'eo_eo': 'eo_EO.ISO8859-3',\n",
              " 'eo_us.utf8': 'eo_US.UTF-8',\n",
              " 'eo_xx': 'eo_XX.ISO8859-3',\n",
              " 'es': 'es_ES.ISO8859-1',\n",
              " 'es_ar': 'es_AR.ISO8859-1',\n",
              " 'es_bo': 'es_BO.ISO8859-1',\n",
              " 'es_cl': 'es_CL.ISO8859-1',\n",
              " 'es_co': 'es_CO.ISO8859-1',\n",
              " 'es_cr': 'es_CR.ISO8859-1',\n",
              " 'es_cu': 'es_CU.UTF-8',\n",
              " 'es_do': 'es_DO.ISO8859-1',\n",
              " 'es_ec': 'es_EC.ISO8859-1',\n",
              " 'es_es': 'es_ES.ISO8859-1',\n",
              " 'es_gt': 'es_GT.ISO8859-1',\n",
              " 'es_hn': 'es_HN.ISO8859-1',\n",
              " 'es_mx': 'es_MX.ISO8859-1',\n",
              " 'es_ni': 'es_NI.ISO8859-1',\n",
              " 'es_pa': 'es_PA.ISO8859-1',\n",
              " 'es_pe': 'es_PE.ISO8859-1',\n",
              " 'es_pr': 'es_PR.ISO8859-1',\n",
              " 'es_py': 'es_PY.ISO8859-1',\n",
              " 'es_sv': 'es_SV.ISO8859-1',\n",
              " 'es_us': 'es_US.ISO8859-1',\n",
              " 'es_uy': 'es_UY.ISO8859-1',\n",
              " 'es_ve': 'es_VE.ISO8859-1',\n",
              " 'estonian': 'et_EE.ISO8859-1',\n",
              " 'et': 'et_EE.ISO8859-15',\n",
              " 'et_ee': 'et_EE.ISO8859-15',\n",
              " 'eu': 'eu_ES.ISO8859-1',\n",
              " 'eu_es': 'eu_ES.ISO8859-1',\n",
              " 'eu_fr': 'eu_FR.ISO8859-1',\n",
              " 'fa': 'fa_IR.UTF-8',\n",
              " 'fa_ir': 'fa_IR.UTF-8',\n",
              " 'fa_ir.isiri3342': 'fa_IR.ISIRI-3342',\n",
              " 'ff_sn': 'ff_SN.UTF-8',\n",
              " 'fi': 'fi_FI.ISO8859-15',\n",
              " 'fi_fi': 'fi_FI.ISO8859-15',\n",
              " 'fil_ph': 'fil_PH.UTF-8',\n",
              " 'finnish': 'fi_FI.ISO8859-1',\n",
              " 'fo': 'fo_FO.ISO8859-1',\n",
              " 'fo_fo': 'fo_FO.ISO8859-1',\n",
              " 'fr': 'fr_FR.ISO8859-1',\n",
              " 'fr_be': 'fr_BE.ISO8859-1',\n",
              " 'fr_ca': 'fr_CA.ISO8859-1',\n",
              " 'fr_ch': 'fr_CH.ISO8859-1',\n",
              " 'fr_fr': 'fr_FR.ISO8859-1',\n",
              " 'fr_lu': 'fr_LU.ISO8859-1',\n",
              " 'français': 'fr_FR.ISO8859-1',\n",
              " 'fre_fr': 'fr_FR.ISO8859-1',\n",
              " 'french': 'fr_FR.ISO8859-1',\n",
              " 'french.iso88591': 'fr_CH.ISO8859-1',\n",
              " 'french_france': 'fr_FR.ISO8859-1',\n",
              " 'fur_it': 'fur_IT.UTF-8',\n",
              " 'fy_de': 'fy_DE.UTF-8',\n",
              " 'fy_nl': 'fy_NL.UTF-8',\n",
              " 'ga': 'ga_IE.ISO8859-1',\n",
              " 'ga_ie': 'ga_IE.ISO8859-1',\n",
              " 'galego': 'gl_ES.ISO8859-1',\n",
              " 'galician': 'gl_ES.ISO8859-1',\n",
              " 'gd': 'gd_GB.ISO8859-1',\n",
              " 'gd_gb': 'gd_GB.ISO8859-1',\n",
              " 'ger_de': 'de_DE.ISO8859-1',\n",
              " 'german': 'de_DE.ISO8859-1',\n",
              " 'german.iso88591': 'de_CH.ISO8859-1',\n",
              " 'german_germany': 'de_DE.ISO8859-1',\n",
              " 'gez_er': 'gez_ER.UTF-8',\n",
              " 'gez_et': 'gez_ET.UTF-8',\n",
              " 'gl': 'gl_ES.ISO8859-1',\n",
              " 'gl_es': 'gl_ES.ISO8859-1',\n",
              " 'greek': 'el_GR.ISO8859-7',\n",
              " 'gu_in': 'gu_IN.UTF-8',\n",
              " 'gv': 'gv_GB.ISO8859-1',\n",
              " 'gv_gb': 'gv_GB.ISO8859-1',\n",
              " 'ha_ng': 'ha_NG.UTF-8',\n",
              " 'hak_tw': 'hak_TW.UTF-8',\n",
              " 'he': 'he_IL.ISO8859-8',\n",
              " 'he_il': 'he_IL.ISO8859-8',\n",
              " 'hebrew': 'he_IL.ISO8859-8',\n",
              " 'hi': 'hi_IN.ISCII-DEV',\n",
              " 'hi_in': 'hi_IN.ISCII-DEV',\n",
              " 'hi_in.isciidev': 'hi_IN.ISCII-DEV',\n",
              " 'hif_fj': 'hif_FJ.UTF-8',\n",
              " 'hne': 'hne_IN.UTF-8',\n",
              " 'hne_in': 'hne_IN.UTF-8',\n",
              " 'hr': 'hr_HR.ISO8859-2',\n",
              " 'hr_hr': 'hr_HR.ISO8859-2',\n",
              " 'hrvatski': 'hr_HR.ISO8859-2',\n",
              " 'hsb_de': 'hsb_DE.ISO8859-2',\n",
              " 'ht_ht': 'ht_HT.UTF-8',\n",
              " 'hu': 'hu_HU.ISO8859-2',\n",
              " 'hu_hu': 'hu_HU.ISO8859-2',\n",
              " 'hungarian': 'hu_HU.ISO8859-2',\n",
              " 'hy_am': 'hy_AM.UTF-8',\n",
              " 'hy_am.armscii8': 'hy_AM.ARMSCII_8',\n",
              " 'ia': 'ia.UTF-8',\n",
              " 'ia_fr': 'ia_FR.UTF-8',\n",
              " 'icelandic': 'is_IS.ISO8859-1',\n",
              " 'id': 'id_ID.ISO8859-1',\n",
              " 'id_id': 'id_ID.ISO8859-1',\n",
              " 'ig_ng': 'ig_NG.UTF-8',\n",
              " 'ik_ca': 'ik_CA.UTF-8',\n",
              " 'in': 'id_ID.ISO8859-1',\n",
              " 'in_id': 'id_ID.ISO8859-1',\n",
              " 'is': 'is_IS.ISO8859-1',\n",
              " 'is_is': 'is_IS.ISO8859-1',\n",
              " 'iso-8859-1': 'en_US.ISO8859-1',\n",
              " 'iso-8859-15': 'en_US.ISO8859-15',\n",
              " 'iso8859-1': 'en_US.ISO8859-1',\n",
              " 'iso8859-15': 'en_US.ISO8859-15',\n",
              " 'iso_8859_1': 'en_US.ISO8859-1',\n",
              " 'iso_8859_15': 'en_US.ISO8859-15',\n",
              " 'it': 'it_IT.ISO8859-1',\n",
              " 'it_ch': 'it_CH.ISO8859-1',\n",
              " 'it_it': 'it_IT.ISO8859-1',\n",
              " 'italian': 'it_IT.ISO8859-1',\n",
              " 'iu': 'iu_CA.NUNACOM-8',\n",
              " 'iu_ca': 'iu_CA.NUNACOM-8',\n",
              " 'iu_ca.nunacom8': 'iu_CA.NUNACOM-8',\n",
              " 'iw': 'he_IL.ISO8859-8',\n",
              " 'iw_il': 'he_IL.ISO8859-8',\n",
              " 'iw_il.utf8': 'iw_IL.UTF-8',\n",
              " 'ja': 'ja_JP.eucJP',\n",
              " 'ja_jp': 'ja_JP.eucJP',\n",
              " 'ja_jp.euc': 'ja_JP.eucJP',\n",
              " 'ja_jp.mscode': 'ja_JP.SJIS',\n",
              " 'ja_jp.pck': 'ja_JP.SJIS',\n",
              " 'japan': 'ja_JP.eucJP',\n",
              " 'japanese': 'ja_JP.eucJP',\n",
              " 'japanese-euc': 'ja_JP.eucJP',\n",
              " 'japanese.euc': 'ja_JP.eucJP',\n",
              " 'jp_jp': 'ja_JP.eucJP',\n",
              " 'ka': 'ka_GE.GEORGIAN-ACADEMY',\n",
              " 'ka_ge': 'ka_GE.GEORGIAN-ACADEMY',\n",
              " 'ka_ge.georgianacademy': 'ka_GE.GEORGIAN-ACADEMY',\n",
              " 'ka_ge.georgianps': 'ka_GE.GEORGIAN-PS',\n",
              " 'ka_ge.georgianrs': 'ka_GE.GEORGIAN-ACADEMY',\n",
              " 'kab_dz': 'kab_DZ.UTF-8',\n",
              " 'kk_kz': 'kk_KZ.ptcp154',\n",
              " 'kl': 'kl_GL.ISO8859-1',\n",
              " 'kl_gl': 'kl_GL.ISO8859-1',\n",
              " 'km_kh': 'km_KH.UTF-8',\n",
              " 'kn': 'kn_IN.UTF-8',\n",
              " 'kn_in': 'kn_IN.UTF-8',\n",
              " 'ko': 'ko_KR.eucKR',\n",
              " 'ko_kr': 'ko_KR.eucKR',\n",
              " 'ko_kr.euc': 'ko_KR.eucKR',\n",
              " 'kok_in': 'kok_IN.UTF-8',\n",
              " 'korean': 'ko_KR.eucKR',\n",
              " 'korean.euc': 'ko_KR.eucKR',\n",
              " 'ks': 'ks_IN.UTF-8',\n",
              " 'ks_in': 'ks_IN.UTF-8',\n",
              " 'ks_in@devanagari.utf8': 'ks_IN.UTF-8@devanagari',\n",
              " 'ku_tr': 'ku_TR.ISO8859-9',\n",
              " 'kw': 'kw_GB.ISO8859-1',\n",
              " 'kw_gb': 'kw_GB.ISO8859-1',\n",
              " 'ky': 'ky_KG.UTF-8',\n",
              " 'ky_kg': 'ky_KG.UTF-8',\n",
              " 'lb_lu': 'lb_LU.UTF-8',\n",
              " 'lg_ug': 'lg_UG.ISO8859-10',\n",
              " 'li_be': 'li_BE.UTF-8',\n",
              " 'li_nl': 'li_NL.UTF-8',\n",
              " 'lij_it': 'lij_IT.UTF-8',\n",
              " 'lithuanian': 'lt_LT.ISO8859-13',\n",
              " 'ln_cd': 'ln_CD.UTF-8',\n",
              " 'lo': 'lo_LA.MULELAO-1',\n",
              " 'lo_la': 'lo_LA.MULELAO-1',\n",
              " 'lo_la.cp1133': 'lo_LA.IBM-CP1133',\n",
              " 'lo_la.ibmcp1133': 'lo_LA.IBM-CP1133',\n",
              " 'lo_la.mulelao1': 'lo_LA.MULELAO-1',\n",
              " 'lt': 'lt_LT.ISO8859-13',\n",
              " 'lt_lt': 'lt_LT.ISO8859-13',\n",
              " 'lv': 'lv_LV.ISO8859-13',\n",
              " 'lv_lv': 'lv_LV.ISO8859-13',\n",
              " 'lzh_tw': 'lzh_TW.UTF-8',\n",
              " 'mag_in': 'mag_IN.UTF-8',\n",
              " 'mai': 'mai_IN.UTF-8',\n",
              " 'mai_in': 'mai_IN.UTF-8',\n",
              " 'mai_np': 'mai_NP.UTF-8',\n",
              " 'mfe_mu': 'mfe_MU.UTF-8',\n",
              " 'mg_mg': 'mg_MG.ISO8859-15',\n",
              " 'mhr_ru': 'mhr_RU.UTF-8',\n",
              " 'mi': 'mi_NZ.ISO8859-1',\n",
              " 'mi_nz': 'mi_NZ.ISO8859-1',\n",
              " 'miq_ni': 'miq_NI.UTF-8',\n",
              " 'mjw_in': 'mjw_IN.UTF-8',\n",
              " 'mk': 'mk_MK.ISO8859-5',\n",
              " 'mk_mk': 'mk_MK.ISO8859-5',\n",
              " 'ml': 'ml_IN.UTF-8',\n",
              " 'ml_in': 'ml_IN.UTF-8',\n",
              " 'mn_mn': 'mn_MN.UTF-8',\n",
              " 'mni_in': 'mni_IN.UTF-8',\n",
              " 'mr': 'mr_IN.UTF-8',\n",
              " 'mr_in': 'mr_IN.UTF-8',\n",
              " 'ms': 'ms_MY.ISO8859-1',\n",
              " 'ms_my': 'ms_MY.ISO8859-1',\n",
              " 'mt': 'mt_MT.ISO8859-3',\n",
              " 'mt_mt': 'mt_MT.ISO8859-3',\n",
              " 'my_mm': 'my_MM.UTF-8',\n",
              " 'nan_tw': 'nan_TW.UTF-8',\n",
              " 'nb': 'nb_NO.ISO8859-1',\n",
              " 'nb_no': 'nb_NO.ISO8859-1',\n",
              " 'nds_de': 'nds_DE.UTF-8',\n",
              " 'nds_nl': 'nds_NL.UTF-8',\n",
              " 'ne_np': 'ne_NP.UTF-8',\n",
              " 'nhn_mx': 'nhn_MX.UTF-8',\n",
              " 'niu_nu': 'niu_NU.UTF-8',\n",
              " 'niu_nz': 'niu_NZ.UTF-8',\n",
              " 'nl': 'nl_NL.ISO8859-1',\n",
              " 'nl_aw': 'nl_AW.UTF-8',\n",
              " 'nl_be': 'nl_BE.ISO8859-1',\n",
              " 'nl_nl': 'nl_NL.ISO8859-1',\n",
              " 'nn': 'nn_NO.ISO8859-1',\n",
              " 'nn_no': 'nn_NO.ISO8859-1',\n",
              " 'no': 'no_NO.ISO8859-1',\n",
              " 'no@nynorsk': 'ny_NO.ISO8859-1',\n",
              " 'no_no': 'no_NO.ISO8859-1',\n",
              " 'no_no.iso88591@bokmal': 'no_NO.ISO8859-1',\n",
              " 'no_no.iso88591@nynorsk': 'no_NO.ISO8859-1',\n",
              " 'norwegian': 'no_NO.ISO8859-1',\n",
              " 'nr': 'nr_ZA.ISO8859-1',\n",
              " 'nr_za': 'nr_ZA.ISO8859-1',\n",
              " 'nso': 'nso_ZA.ISO8859-15',\n",
              " 'nso_za': 'nso_ZA.ISO8859-15',\n",
              " 'ny': 'ny_NO.ISO8859-1',\n",
              " 'ny_no': 'ny_NO.ISO8859-1',\n",
              " 'nynorsk': 'nn_NO.ISO8859-1',\n",
              " 'oc': 'oc_FR.ISO8859-1',\n",
              " 'oc_fr': 'oc_FR.ISO8859-1',\n",
              " 'om_et': 'om_ET.UTF-8',\n",
              " 'om_ke': 'om_KE.ISO8859-1',\n",
              " 'or': 'or_IN.UTF-8',\n",
              " 'or_in': 'or_IN.UTF-8',\n",
              " 'os_ru': 'os_RU.UTF-8',\n",
              " 'pa': 'pa_IN.UTF-8',\n",
              " 'pa_in': 'pa_IN.UTF-8',\n",
              " 'pa_pk': 'pa_PK.UTF-8',\n",
              " 'pap_an': 'pap_AN.UTF-8',\n",
              " 'pap_aw': 'pap_AW.UTF-8',\n",
              " 'pap_cw': 'pap_CW.UTF-8',\n",
              " 'pd': 'pd_US.ISO8859-1',\n",
              " 'pd_de': 'pd_DE.ISO8859-1',\n",
              " 'pd_us': 'pd_US.ISO8859-1',\n",
              " 'ph': 'ph_PH.ISO8859-1',\n",
              " 'ph_ph': 'ph_PH.ISO8859-1',\n",
              " 'pl': 'pl_PL.ISO8859-2',\n",
              " 'pl_pl': 'pl_PL.ISO8859-2',\n",
              " 'polish': 'pl_PL.ISO8859-2',\n",
              " 'portuguese': 'pt_PT.ISO8859-1',\n",
              " 'portuguese_brazil': 'pt_BR.ISO8859-1',\n",
              " 'posix': 'C',\n",
              " 'posix-utf2': 'C',\n",
              " 'pp': 'pp_AN.ISO8859-1',\n",
              " 'pp_an': 'pp_AN.ISO8859-1',\n",
              " 'ps_af': 'ps_AF.UTF-8',\n",
              " 'pt': 'pt_PT.ISO8859-1',\n",
              " 'pt_br': 'pt_BR.ISO8859-1',\n",
              " 'pt_pt': 'pt_PT.ISO8859-1',\n",
              " 'quz_pe': 'quz_PE.UTF-8',\n",
              " 'raj_in': 'raj_IN.UTF-8',\n",
              " 'ro': 'ro_RO.ISO8859-2',\n",
              " 'ro_ro': 'ro_RO.ISO8859-2',\n",
              " 'romanian': 'ro_RO.ISO8859-2',\n",
              " 'ru': 'ru_RU.UTF-8',\n",
              " 'ru_ru': 'ru_RU.UTF-8',\n",
              " 'ru_ua': 'ru_UA.KOI8-U',\n",
              " 'rumanian': 'ro_RO.ISO8859-2',\n",
              " 'russian': 'ru_RU.KOI8-R',\n",
              " 'rw': 'rw_RW.ISO8859-1',\n",
              " 'rw_rw': 'rw_RW.ISO8859-1',\n",
              " 'sa_in': 'sa_IN.UTF-8',\n",
              " 'sat_in': 'sat_IN.UTF-8',\n",
              " 'sc_it': 'sc_IT.UTF-8',\n",
              " 'sd': 'sd_IN.UTF-8',\n",
              " 'sd_in': 'sd_IN.UTF-8',\n",
              " 'sd_in@devanagari.utf8': 'sd_IN.UTF-8@devanagari',\n",
              " 'sd_pk': 'sd_PK.UTF-8',\n",
              " 'se_no': 'se_NO.UTF-8',\n",
              " 'serbocroatian': 'sr_RS.UTF-8@latin',\n",
              " 'sgs_lt': 'sgs_LT.UTF-8',\n",
              " 'sh': 'sr_RS.UTF-8@latin',\n",
              " 'sh_ba.iso88592@bosnia': 'sr_CS.ISO8859-2',\n",
              " 'sh_hr': 'sh_HR.ISO8859-2',\n",
              " 'sh_hr.iso88592': 'hr_HR.ISO8859-2',\n",
              " 'sh_sp': 'sr_CS.ISO8859-2',\n",
              " 'sh_yu': 'sr_RS.UTF-8@latin',\n",
              " 'shn_mm': 'shn_MM.UTF-8',\n",
              " 'shs_ca': 'shs_CA.UTF-8',\n",
              " 'si': 'si_LK.UTF-8',\n",
              " 'si_lk': 'si_LK.UTF-8',\n",
              " 'sid_et': 'sid_ET.UTF-8',\n",
              " 'sinhala': 'si_LK.UTF-8',\n",
              " 'sk': 'sk_SK.ISO8859-2',\n",
              " 'sk_sk': 'sk_SK.ISO8859-2',\n",
              " 'sl': 'sl_SI.ISO8859-2',\n",
              " 'sl_cs': 'sl_CS.ISO8859-2',\n",
              " 'sl_si': 'sl_SI.ISO8859-2',\n",
              " 'slovak': 'sk_SK.ISO8859-2',\n",
              " 'slovene': 'sl_SI.ISO8859-2',\n",
              " 'slovenian': 'sl_SI.ISO8859-2',\n",
              " 'sm_ws': 'sm_WS.UTF-8',\n",
              " 'so_dj': 'so_DJ.ISO8859-1',\n",
              " 'so_et': 'so_ET.UTF-8',\n",
              " 'so_ke': 'so_KE.ISO8859-1',\n",
              " 'so_so': 'so_SO.ISO8859-1',\n",
              " 'sp': 'sr_CS.ISO8859-5',\n",
              " 'sp_yu': 'sr_CS.ISO8859-5',\n",
              " 'spanish': 'es_ES.ISO8859-1',\n",
              " 'spanish_spain': 'es_ES.ISO8859-1',\n",
              " 'sq': 'sq_AL.ISO8859-2',\n",
              " 'sq_al': 'sq_AL.ISO8859-2',\n",
              " 'sq_mk': 'sq_MK.UTF-8',\n",
              " 'sr': 'sr_RS.UTF-8',\n",
              " 'sr@cyrillic': 'sr_RS.UTF-8',\n",
              " 'sr@latn': 'sr_CS.UTF-8@latin',\n",
              " 'sr_cs': 'sr_CS.UTF-8',\n",
              " 'sr_cs.iso88592@latn': 'sr_CS.ISO8859-2',\n",
              " 'sr_cs@latn': 'sr_CS.UTF-8@latin',\n",
              " 'sr_me': 'sr_ME.UTF-8',\n",
              " 'sr_rs': 'sr_RS.UTF-8',\n",
              " 'sr_rs@latn': 'sr_RS.UTF-8@latin',\n",
              " 'sr_sp': 'sr_CS.ISO8859-2',\n",
              " 'sr_yu': 'sr_RS.UTF-8@latin',\n",
              " 'sr_yu.cp1251@cyrillic': 'sr_CS.CP1251',\n",
              " 'sr_yu.iso88592': 'sr_CS.ISO8859-2',\n",
              " 'sr_yu.iso88595': 'sr_CS.ISO8859-5',\n",
              " 'sr_yu.iso88595@cyrillic': 'sr_CS.ISO8859-5',\n",
              " 'sr_yu.microsoftcp1251@cyrillic': 'sr_CS.CP1251',\n",
              " 'sr_yu.utf8': 'sr_RS.UTF-8',\n",
              " 'sr_yu.utf8@cyrillic': 'sr_RS.UTF-8',\n",
              " 'sr_yu@cyrillic': 'sr_RS.UTF-8',\n",
              " 'ss': 'ss_ZA.ISO8859-1',\n",
              " 'ss_za': 'ss_ZA.ISO8859-1',\n",
              " 'st': 'st_ZA.ISO8859-1',\n",
              " 'st_za': 'st_ZA.ISO8859-1',\n",
              " 'sv': 'sv_SE.ISO8859-1',\n",
              " 'sv_fi': 'sv_FI.ISO8859-1',\n",
              " 'sv_se': 'sv_SE.ISO8859-1',\n",
              " 'sw_ke': 'sw_KE.UTF-8',\n",
              " 'sw_tz': 'sw_TZ.UTF-8',\n",
              " 'swedish': 'sv_SE.ISO8859-1',\n",
              " 'szl_pl': 'szl_PL.UTF-8',\n",
              " 'ta': 'ta_IN.TSCII-0',\n",
              " 'ta_in': 'ta_IN.TSCII-0',\n",
              " 'ta_in.tscii': 'ta_IN.TSCII-0',\n",
              " 'ta_in.tscii0': 'ta_IN.TSCII-0',\n",
              " 'ta_lk': 'ta_LK.UTF-8',\n",
              " 'tcy_in.utf8': 'tcy_IN.UTF-8',\n",
              " 'te': 'te_IN.UTF-8',\n",
              " 'te_in': 'te_IN.UTF-8',\n",
              " 'tg': 'tg_TJ.KOI8-C',\n",
              " 'tg_tj': 'tg_TJ.KOI8-C',\n",
              " 'th': 'th_TH.ISO8859-11',\n",
              " 'th_th': 'th_TH.ISO8859-11',\n",
              " 'th_th.tactis': 'th_TH.TIS620',\n",
              " 'th_th.tis620': 'th_TH.TIS620',\n",
              " 'thai': 'th_TH.ISO8859-11',\n",
              " 'the_np': 'the_NP.UTF-8',\n",
              " 'ti_er': 'ti_ER.UTF-8',\n",
              " 'ti_et': 'ti_ET.UTF-8',\n",
              " 'tig_er': 'tig_ER.UTF-8',\n",
              " 'tk_tm': 'tk_TM.UTF-8',\n",
              " 'tl': 'tl_PH.ISO8859-1',\n",
              " 'tl_ph': 'tl_PH.ISO8859-1',\n",
              " 'tn': 'tn_ZA.ISO8859-15',\n",
              " 'tn_za': 'tn_ZA.ISO8859-15',\n",
              " 'to_to': 'to_TO.UTF-8',\n",
              " 'tpi_pg': 'tpi_PG.UTF-8',\n",
              " 'tr': 'tr_TR.ISO8859-9',\n",
              " 'tr_cy': 'tr_CY.ISO8859-9',\n",
              " 'tr_tr': 'tr_TR.ISO8859-9',\n",
              " 'ts': 'ts_ZA.ISO8859-1',\n",
              " 'ts_za': 'ts_ZA.ISO8859-1',\n",
              " 'tt': 'tt_RU.TATAR-CYR',\n",
              " 'tt_ru': 'tt_RU.TATAR-CYR',\n",
              " 'tt_ru.tatarcyr': 'tt_RU.TATAR-CYR',\n",
              " 'tt_ru@iqtelif': 'tt_RU.UTF-8@iqtelif',\n",
              " 'turkish': 'tr_TR.ISO8859-9',\n",
              " 'ug_cn': 'ug_CN.UTF-8',\n",
              " 'uk': 'uk_UA.KOI8-U',\n",
              " 'uk_ua': 'uk_UA.KOI8-U',\n",
              " 'univ': 'en_US.UTF-8',\n",
              " 'universal': 'en_US.UTF-8',\n",
              " 'universal.utf8@ucs4': 'en_US.UTF-8',\n",
              " 'unm_us': 'unm_US.UTF-8',\n",
              " 'ur': 'ur_PK.CP1256',\n",
              " 'ur_in': 'ur_IN.UTF-8',\n",
              " 'ur_pk': 'ur_PK.CP1256',\n",
              " 'uz': 'uz_UZ.UTF-8',\n",
              " 'uz_uz': 'uz_UZ.UTF-8',\n",
              " 'uz_uz@cyrillic': 'uz_UZ.UTF-8',\n",
              " 've': 've_ZA.UTF-8',\n",
              " 've_za': 've_ZA.UTF-8',\n",
              " 'vi': 'vi_VN.TCVN',\n",
              " 'vi_vn': 'vi_VN.TCVN',\n",
              " 'vi_vn.tcvn': 'vi_VN.TCVN',\n",
              " 'vi_vn.tcvn5712': 'vi_VN.TCVN',\n",
              " 'vi_vn.viscii': 'vi_VN.VISCII',\n",
              " 'vi_vn.viscii111': 'vi_VN.VISCII',\n",
              " 'wa': 'wa_BE.ISO8859-1',\n",
              " 'wa_be': 'wa_BE.ISO8859-1',\n",
              " 'wae_ch': 'wae_CH.UTF-8',\n",
              " 'wal_et': 'wal_ET.UTF-8',\n",
              " 'wo_sn': 'wo_SN.UTF-8',\n",
              " 'xh': 'xh_ZA.ISO8859-1',\n",
              " 'xh_za': 'xh_ZA.ISO8859-1',\n",
              " 'yi': 'yi_US.CP1255',\n",
              " 'yi_us': 'yi_US.CP1255',\n",
              " 'yo_ng': 'yo_NG.UTF-8',\n",
              " 'yue_hk': 'yue_HK.UTF-8',\n",
              " 'yuw_pg': 'yuw_PG.UTF-8',\n",
              " 'zh': 'zh_CN.eucCN',\n",
              " 'zh_cn': 'zh_CN.gb2312',\n",
              " 'zh_cn.big5': 'zh_TW.big5',\n",
              " 'zh_cn.euc': 'zh_CN.eucCN',\n",
              " 'zh_hk': 'zh_HK.big5hkscs',\n",
              " 'zh_hk.big5hk': 'zh_HK.big5hkscs',\n",
              " 'zh_sg': 'zh_SG.GB2312',\n",
              " 'zh_sg.gbk': 'zh_SG.GBK',\n",
              " 'zh_tw': 'zh_TW.big5',\n",
              " 'zh_tw.euc': 'zh_TW.eucTW',\n",
              " 'zh_tw.euctw': 'zh_TW.eucTW',\n",
              " 'zu': 'zu_ZA.ISO8859-1',\n",
              " 'zu_za': 'zu_ZA.ISO8859-1'}"
            ]
          },
          "metadata": {},
          "execution_count": 29
        }
      ]
    },
    {
      "cell_type": "code",
      "metadata": {
        "id": "mV85R8ane8Vm",
        "colab": {
          "base_uri": "https://localhost:8080/"
        },
        "outputId": "ed893662-b936-442f-bf32-05206e1c82d7"
      },
      "source": [
        "!locale -a"
      ],
      "execution_count": 30,
      "outputs": [
        {
          "output_type": "stream",
          "name": "stdout",
          "text": [
            "C\n",
            "C.UTF-8\n",
            "en_US.utf8\n",
            "POSIX\n"
          ]
        }
      ]
    },
    {
      "cell_type": "code",
      "metadata": {
        "id": "N2fTzQ2ucu_s",
        "colab": {
          "base_uri": "https://localhost:8080/"
        },
        "outputId": "70437758-2c9d-4358-ddd3-1727d41dcb48"
      },
      "source": [
        "dt = datetime.datetime(2015, 11, 15, 16, 30)\n",
        "\n",
        "locale.setlocale(locale.LC_ALL, 'en_US.UTF-8') #######\n",
        "print(dt.strftime(\"%A, %d. %B %Y %I:%M%p\"))"
      ],
      "execution_count": 31,
      "outputs": [
        {
          "output_type": "stream",
          "name": "stdout",
          "text": [
            "Sunday, 15. November 2015 04:30PM\n"
          ]
        }
      ]
    },
    {
      "cell_type": "code",
      "metadata": {
        "id": "xSiRkdRAdKUC",
        "colab": {
          "base_uri": "https://localhost:8080/"
        },
        "outputId": "7c5d1398-e51e-4aa5-ed0e-b3900bb73c7a"
      },
      "source": [
        "!locale --help"
      ],
      "execution_count": 32,
      "outputs": [
        {
          "output_type": "stream",
          "name": "stdout",
          "text": [
            "Usage: locale [OPTION...] NAME\n",
            "  or:  locale [OPTION...] [-a|-m]\n",
            "Get locale-specific information.\n",
            "\n",
            " System information:\n",
            "  -a, --all-locales          Write names of available locales\n",
            "  -m, --charmaps             Write names of available charmaps\n",
            "\n",
            " Modify output format:\n",
            "  -c, --category-name        Write names of selected categories\n",
            "  -k, --keyword-name         Write names of selected keywords\n",
            "  -v, --verbose              Print more information\n",
            "\n",
            "  -?, --help                 Give this help list\n",
            "      --usage                Give a short usage message\n",
            "  -V, --version              Print program version\n",
            "\n",
            "For bug reporting instructions, please see:\n",
            "<https://bugs.launchpad.net/ubuntu/+source/glibc/+bugs>.\n"
          ]
        }
      ]
    },
    {
      "cell_type": "code",
      "metadata": {
        "id": "506oguoQiCr7",
        "outputId": "bc66d989-f5e1-4b8d-9dc3-d8423908fa12",
        "colab": {
          "base_uri": "https://localhost:8080/"
        }
      },
      "source": [
        "!sudo locale-gen it_IT\n",
        "!sudo update-locale"
      ],
      "execution_count": 43,
      "outputs": [
        {
          "output_type": "stream",
          "name": "stdout",
          "text": [
            "Generating locales (this might take a while)...\n",
            "  it_IT.ISO-8859-1... done\n",
            "Generation complete.\n"
          ]
        }
      ]
    },
    {
      "cell_type": "code",
      "metadata": {
        "id": "_zEmYwjEiYJb",
        "outputId": "cbb45546-e545-4424-8de6-366e81538391",
        "colab": {
          "base_uri": "https://localhost:8080/"
        }
      },
      "source": [
        "!locale -a"
      ],
      "execution_count": 51,
      "outputs": [
        {
          "output_type": "stream",
          "name": "stdout",
          "text": [
            "C\n",
            "C.UTF-8\n",
            "en_US.utf8\n",
            "italian\n",
            "it_IT\n",
            "it_IT.iso88591\n",
            "POSIX\n"
          ]
        }
      ]
    },
    {
      "cell_type": "code",
      "metadata": {
        "id": "vs5tk_0BjQJJ",
        "outputId": "0c7cec7d-787a-45fd-a624-6a6193b84dc1",
        "colab": {
          "base_uri": "https://localhost:8080/"
        }
      },
      "source": [
        "locale.getlocale(locale.LC_TIME)"
      ],
      "execution_count": 50,
      "outputs": [
        {
          "output_type": "execute_result",
          "data": {
            "text/plain": [
              "('en_US', 'UTF-8')"
            ]
          },
          "metadata": {},
          "execution_count": 50
        }
      ]
    },
    {
      "cell_type": "code",
      "metadata": {
        "id": "UpzetYbZiZ1M",
        "outputId": "25a7a732-c38f-4ef7-9550-7abc6a06aded",
        "colab": {
          "base_uri": "https://localhost:8080/",
          "height": 343
        }
      },
      "source": [
        "!export LC_ALL='it_IT.iso88591'\n",
        "dt = datetime.datetime(2015, 11, 15, 16, 30)\n",
        "\n",
        "locale.setlocale(locale.LC_ALL, 'it_IT.iso88591') #######\n",
        "print(dt.strftime(\"%A, %d. %B %Y %I:%M%p\"))"
      ],
      "execution_count": 54,
      "outputs": [
        {
          "output_type": "error",
          "ename": "Error",
          "evalue": "ignored",
          "traceback": [
            "\u001b[0;31m---------------------------------------------------------------------------\u001b[0m",
            "\u001b[0;31mError\u001b[0m                                     Traceback (most recent call last)",
            "\u001b[0;32m<ipython-input-54-aea9aef97205>\u001b[0m in \u001b[0;36m<module>\u001b[0;34m()\u001b[0m\n\u001b[1;32m      2\u001b[0m \u001b[0mdt\u001b[0m \u001b[0;34m=\u001b[0m \u001b[0mdatetime\u001b[0m\u001b[0;34m.\u001b[0m\u001b[0mdatetime\u001b[0m\u001b[0;34m(\u001b[0m\u001b[0;36m2015\u001b[0m\u001b[0;34m,\u001b[0m \u001b[0;36m11\u001b[0m\u001b[0;34m,\u001b[0m \u001b[0;36m15\u001b[0m\u001b[0;34m,\u001b[0m \u001b[0;36m16\u001b[0m\u001b[0;34m,\u001b[0m \u001b[0;36m30\u001b[0m\u001b[0;34m)\u001b[0m\u001b[0;34m\u001b[0m\u001b[0;34m\u001b[0m\u001b[0m\n\u001b[1;32m      3\u001b[0m \u001b[0;34m\u001b[0m\u001b[0m\n\u001b[0;32m----> 4\u001b[0;31m \u001b[0mlocale\u001b[0m\u001b[0;34m.\u001b[0m\u001b[0msetlocale\u001b[0m\u001b[0;34m(\u001b[0m\u001b[0mlocale\u001b[0m\u001b[0;34m.\u001b[0m\u001b[0mLC_ALL\u001b[0m\u001b[0;34m,\u001b[0m \u001b[0;34m'it_IT.iso88591'\u001b[0m\u001b[0;34m)\u001b[0m \u001b[0;31m#######\u001b[0m\u001b[0;34m\u001b[0m\u001b[0;34m\u001b[0m\u001b[0m\n\u001b[0m\u001b[1;32m      5\u001b[0m \u001b[0mprint\u001b[0m\u001b[0;34m(\u001b[0m\u001b[0mdt\u001b[0m\u001b[0;34m.\u001b[0m\u001b[0mstrftime\u001b[0m\u001b[0;34m(\u001b[0m\u001b[0;34m\"%A, %d. %B %Y %I:%M%p\"\u001b[0m\u001b[0;34m)\u001b[0m\u001b[0;34m)\u001b[0m\u001b[0;34m\u001b[0m\u001b[0;34m\u001b[0m\u001b[0m\n",
            "\u001b[0;32m/usr/lib/python3.7/locale.py\u001b[0m in \u001b[0;36msetlocale\u001b[0;34m(category, locale)\u001b[0m\n\u001b[1;32m    606\u001b[0m         \u001b[0;31m# convert to string\u001b[0m\u001b[0;34m\u001b[0m\u001b[0;34m\u001b[0m\u001b[0;34m\u001b[0m\u001b[0m\n\u001b[1;32m    607\u001b[0m         \u001b[0mlocale\u001b[0m \u001b[0;34m=\u001b[0m \u001b[0mnormalize\u001b[0m\u001b[0;34m(\u001b[0m\u001b[0m_build_localename\u001b[0m\u001b[0;34m(\u001b[0m\u001b[0mlocale\u001b[0m\u001b[0;34m)\u001b[0m\u001b[0;34m)\u001b[0m\u001b[0;34m\u001b[0m\u001b[0;34m\u001b[0m\u001b[0m\n\u001b[0;32m--> 608\u001b[0;31m     \u001b[0;32mreturn\u001b[0m \u001b[0m_setlocale\u001b[0m\u001b[0;34m(\u001b[0m\u001b[0mcategory\u001b[0m\u001b[0;34m,\u001b[0m \u001b[0mlocale\u001b[0m\u001b[0;34m)\u001b[0m\u001b[0;34m\u001b[0m\u001b[0;34m\u001b[0m\u001b[0m\n\u001b[0m\u001b[1;32m    609\u001b[0m \u001b[0;34m\u001b[0m\u001b[0m\n\u001b[1;32m    610\u001b[0m \u001b[0;32mdef\u001b[0m \u001b[0mresetlocale\u001b[0m\u001b[0;34m(\u001b[0m\u001b[0mcategory\u001b[0m\u001b[0;34m=\u001b[0m\u001b[0mLC_ALL\u001b[0m\u001b[0;34m)\u001b[0m\u001b[0;34m:\u001b[0m\u001b[0;34m\u001b[0m\u001b[0;34m\u001b[0m\u001b[0m\n",
            "\u001b[0;31mError\u001b[0m: unsupported locale setting"
          ]
        }
      ]
    },
    {
      "cell_type": "code",
      "metadata": {
        "id": "SDzQizSifm6t",
        "colab": {
          "base_uri": "https://localhost:8080/"
        },
        "outputId": "446d9194-6fe2-4e65-fa17-d1981687185c"
      },
      "source": [
        "# create timedelta object with difference of 2 weeks\n",
        "from datetime import timedelta\n",
        "d = timedelta(weeks=2)\n",
        "\n",
        "print(d)\n",
        "print(type(d))\n",
        "print(d.days)"
      ],
      "execution_count": null,
      "outputs": [
        {
          "output_type": "stream",
          "name": "stdout",
          "text": [
            "14 days, 0:00:00\n",
            "<class 'datetime.timedelta'>\n",
            "14\n"
          ]
        }
      ]
    },
    {
      "cell_type": "code",
      "metadata": {
        "id": "5b6Er8hMtja7",
        "colab": {
          "base_uri": "https://localhost:8080/"
        },
        "outputId": "b1599af0-95e0-4428-a670-ec4fde9a45f7"
      },
      "source": [
        "d.microseconds"
      ],
      "execution_count": null,
      "outputs": [
        {
          "output_type": "execute_result",
          "data": {
            "text/plain": [
              "0"
            ]
          },
          "metadata": {},
          "execution_count": 36
        }
      ]
    },
    {
      "cell_type": "code",
      "metadata": {
        "id": "Q0cLD2s2f9Qy",
        "colab": {
          "base_uri": "https://localhost:8080/"
        },
        "outputId": "790b5764-cf83-4ac4-d52e-9380ad98ca65"
      },
      "source": [
        "year = timedelta(days=365)\n",
        "print(year)"
      ],
      "execution_count": null,
      "outputs": [
        {
          "output_type": "stream",
          "name": "stdout",
          "text": [
            "365 days, 0:00:00\n"
          ]
        }
      ]
    },
    {
      "cell_type": "code",
      "metadata": {
        "id": "7MxOdtuagHAp",
        "colab": {
          "base_uri": "https://localhost:8080/"
        },
        "outputId": "689fdcb4-c0fe-42f5-dadc-24fb959d83ec"
      },
      "source": [
        "from datetime import datetime, timedelta\n",
        "# get current time\n",
        "now = datetime.now()\n",
        "print (\"Today's date: \", str(now))\n",
        "\n",
        "#add 15 days to current date\n",
        "future_date_after_15days = now + timedelta(days = 15)\n",
        "print('Date after 15 days: ', future_date_after_15days)\n",
        "\n",
        "#subtract 2 weeks from current date\n",
        "two_weeks_ago = now - timedelta(weeks = 2)\n",
        "print('Date two weeks ago: ', two_weeks_ago)\n",
        "print('two_weeks_ago object type: ', type(two_weeks_ago))"
      ],
      "execution_count": null,
      "outputs": [
        {
          "output_type": "stream",
          "name": "stdout",
          "text": [
            "Today's date:  2021-10-20 08:03:29.977859\n",
            "Date after 15 days:  2021-11-04 08:03:29.977859\n",
            "Date two weeks ago:  2021-10-06 08:03:29.977859\n",
            "two_weeks_ago object type:  <class 'datetime.datetime'>\n"
          ]
        }
      ]
    },
    {
      "cell_type": "code",
      "metadata": {
        "id": "bA0S-81JgLLo",
        "colab": {
          "base_uri": "https://localhost:8080/"
        },
        "outputId": "9a16bec9-9f68-4cc0-ec98-adcf1f129b21"
      },
      "source": [
        "from datetime import date\n",
        "# Create two dates\n",
        "# date1 = date(2008, 8, 18)\n",
        "# date2 = date(2008, 8, 10)\n",
        "#\n",
        "\n",
        "date1 = datetime(2008, 8, 18, 10, 59, 0)\n",
        "date2 = datetime(2008, 8, 10, 12, 0, 0)\n",
        "\n",
        "# Difference between two dates\n",
        "delta = date2 - date1\n",
        "print(\"Difference in days: \", delta.days)\n",
        "print(\"Difference in seconds: \", delta.seconds)\n",
        "print('delta object type: ', type(delta))\n",
        "print(\"Total time difference in seconds: \", delta.total_seconds())"
      ],
      "execution_count": null,
      "outputs": [
        {
          "output_type": "stream",
          "name": "stdout",
          "text": [
            "Difference in days:  -8\n",
            "Difference in seconds:  3660\n",
            "delta object type:  <class 'datetime.timedelta'>\n",
            "Total time difference in seconds:  -687540.0\n"
          ]
        }
      ]
    },
    {
      "cell_type": "code",
      "metadata": {
        "id": "xiD-HNX4u6vP",
        "colab": {
          "base_uri": "https://localhost:8080/"
        },
        "outputId": "ee7d96fc-ff96-4d6b-8467-ce9da5500459"
      },
      "source": [
        "print(delta)"
      ],
      "execution_count": null,
      "outputs": [
        {
          "output_type": "stream",
          "name": "stdout",
          "text": [
            "-8 days, 1:01:00\n"
          ]
        }
      ]
    },
    {
      "cell_type": "code",
      "metadata": {
        "id": "i5JAtSFvgZnn"
      },
      "source": [
        "from datetime import datetime\n",
        "# create two dates with year, month, day, hour, minute, and second\n",
        "date1 = datetime(2017, 6, 21, 18, 25, 30)\n",
        "date2 = datetime(2017, 5, 16, 8, 21, 10)\n",
        "\n",
        "# Difference between two dates\n",
        "diff = date1-date2"
      ],
      "execution_count": null,
      "outputs": []
    },
    {
      "cell_type": "code",
      "metadata": {
        "id": "hgFDCD2lHIeG",
        "colab": {
          "base_uri": "https://localhost:8080/"
        },
        "outputId": "b37ef6b3-7bbc-4615-f1f0-a4292988db66"
      },
      "source": [
        "date1 = date(2021, 2, 28)\n",
        "date2 = date(2020, 2, 28)\n",
        "diff = date1-date2\n",
        "print(diff)\n",
        "\n",
        "date1 = date(2019, 1, 1)\n",
        "date2 = date(2020, 1, 1)\n",
        "diff = date1-date2\n",
        "print(diff)"
      ],
      "execution_count": null,
      "outputs": [
        {
          "output_type": "stream",
          "name": "stdout",
          "text": [
            "366 days, 0:00:00\n",
            "-365 days, 0:00:00\n"
          ]
        }
      ]
    },
    {
      "cell_type": "code",
      "metadata": {
        "id": "JhGr8samgfRJ",
        "colab": {
          "base_uri": "https://localhost:8080/"
        },
        "outputId": "8a4f2d0a-a0d0-4833-ed67-5ee092587d99"
      },
      "source": [
        "print(diff)"
      ],
      "execution_count": null,
      "outputs": [
        {
          "output_type": "stream",
          "name": "stdout",
          "text": [
            "-365 days, 0:00:00\n"
          ]
        }
      ]
    },
    {
      "cell_type": "code",
      "metadata": {
        "id": "diZup4cQggyD",
        "colab": {
          "base_uri": "https://localhost:8080/"
        },
        "outputId": "156c307c-630e-467b-e9a7-14bdd69aed66"
      },
      "source": [
        "from datetime import datetime\n",
        "date_string = \"1 August, 2019\"\n",
        "\n",
        "# format date\n",
        "date_object = datetime.strptime(date_string, \"%d %B, %Y\")\n",
        "\n",
        "print(\"date_object: \", date_object)"
      ],
      "execution_count": null,
      "outputs": [
        {
          "output_type": "stream",
          "name": "stdout",
          "text": [
            "date_object:  2019-08-01 00:00:00\n"
          ]
        }
      ]
    },
    {
      "cell_type": "code",
      "metadata": {
        "id": "O2VzLjzAgkam",
        "colab": {
          "base_uri": "https://localhost:8080/"
        },
        "outputId": "f2a431ae-5868-4da3-eff5-2af7892897b4"
      },
      "source": [
        "dt_string = \"12/11/2018 09:15:32\"\n",
        "# Considering date is in dd/mm/yyyy format\n",
        "dt_object1 = datetime.strptime(dt_string, \"%d/%m/%Y %H:%M:%S\")\n",
        "print(\"dt_object1:\", dt_object1)\n",
        "# Considering date is in mm/dd/yyyy format\n",
        "dt_object2 = datetime.strptime(dt_string, \"%m/%d/%Y %H:%M:%S\")\n",
        "print(\"dt_object2:\", dt_object2)\n",
        "\n",
        "# Convert dt_object2 to Unix Timestamp\n",
        "timestamp = datetime.timestamp(dt_object2)\n",
        "print('Unix Timestamp: ', timestamp)\n",
        "\n",
        "# Convert back into datetime\n",
        "date_time = datetime.fromtimestamp(timestamp)\n",
        "d = date_time.strftime(\"%c\")\n",
        "print(\"Output 1:\", d)\n",
        "d = date_time.strftime(\"%x\")\n",
        "print(\"Output 2:\", d)\n",
        "d = date_time.strftime(\"%X\")\n",
        "print(\"Output 3:\", d)"
      ],
      "execution_count": null,
      "outputs": [
        {
          "output_type": "stream",
          "name": "stdout",
          "text": [
            "dt_object1: 2018-11-12 09:15:32\n",
            "dt_object2: 2018-12-11 09:15:32\n",
            "Unix Timestamp:  1544519732.0\n",
            "Output 1: Tue 11 Dec 2018 09:15:32 AM \n",
            "Output 2: 12/11/2018\n",
            "Output 3: 09:15:32 AM\n"
          ]
        }
      ]
    },
    {
      "cell_type": "markdown",
      "metadata": {
        "id": "UfkJYzK9gwmS"
      },
      "source": [
        "![image.png](data:image/png;base64,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)"
      ]
    },
    {
      "cell_type": "code",
      "metadata": {
        "id": "XMK4da8pgoHx",
        "colab": {
          "base_uri": "https://localhost:8080/"
        },
        "outputId": "73ab5f4d-6f08-48d3-cda6-5c0823e7a238"
      },
      "source": [
        "# get year from date\n",
        "year = now.strftime(\"%Y\")\n",
        "print(\"Year:\", year)\n",
        "\n",
        "# get month from date\n",
        "month = now.strftime(\"%m\")\n",
        "print(\"Month;\", month)\n",
        "\n",
        "# get day from date\n",
        "day = now.strftime(\"%d\")\n",
        "print(\"Day:\", day)\n",
        "\n",
        "# format time in HH:MM:SS\n",
        "time = now.strftime(\"%H:%M:%S\")\n",
        "print(\"Time:\", time)\n",
        "\n",
        "# format date\n",
        "date_time = now.strftime(\"%m/%d/%Y, %H:%M:%S\")\n",
        "print(\"Date and Time:\",date_time)"
      ],
      "execution_count": null,
      "outputs": [
        {
          "output_type": "stream",
          "name": "stdout",
          "text": [
            "Year: 2021\n",
            "Month; 10\n",
            "Day: 20\n",
            "Time: 08:03:29\n",
            "Date and Time: 10/20/2021, 08:03:29\n"
          ]
        }
      ]
    },
    {
      "cell_type": "code",
      "metadata": {
        "id": "KdZAJhUOw0i0",
        "colab": {
          "base_uri": "https://localhost:8080/"
        },
        "outputId": "8bf30846-f8fd-401d-a859-b6a752834ed8"
      },
      "source": [
        "print(datetime(2011, 11, 2, 7, 27, 0))"
      ],
      "execution_count": null,
      "outputs": [
        {
          "output_type": "stream",
          "name": "stdout",
          "text": [
            "2011-11-02 07:27:00\n"
          ]
        }
      ]
    },
    {
      "cell_type": "code",
      "metadata": {
        "id": "Urpp_l-9w7rQ",
        "colab": {
          "base_uri": "https://localhost:8080/"
        },
        "outputId": "ba2c82ad-691b-454b-8795-7b98872e6138"
      },
      "source": [
        "print(timezone('US/Eastern').localize(datetime(2011, 11, 2, 7, 27, 0)))"
      ],
      "execution_count": null,
      "outputs": [
        {
          "output_type": "stream",
          "name": "stdout",
          "text": [
            "2011-11-02 07:27:00-04:00\n"
          ]
        }
      ]
    },
    {
      "cell_type": "code",
      "metadata": {
        "id": "8y-VvKo3xQm6",
        "colab": {
          "base_uri": "https://localhost:8080/"
        },
        "outputId": "9d5d94df-021c-4d2f-ae9c-fd8958cb4fda"
      },
      "source": [
        "print(timezone('US/Eastern').localize(datetime(2011, 11, 2, 7, 27, 0)).astimezone(timezone('Europe/Rome')))"
      ],
      "execution_count": null,
      "outputs": [
        {
          "output_type": "stream",
          "name": "stdout",
          "text": [
            "2011-11-02 12:27:00+01:00\n"
          ]
        }
      ]
    },
    {
      "cell_type": "code",
      "metadata": {
        "id": "O6ZsJS_HxpuY",
        "colab": {
          "base_uri": "https://localhost:8080/"
        },
        "outputId": "29244b68-aa74-4448-db82-a6995a22bf63"
      },
      "source": [
        "print(timezone('US/Eastern').localize(datetime(2011, 10, 2, 7, 27, 0)).astimezone(timezone('Europe/Rome')))"
      ],
      "execution_count": null,
      "outputs": [
        {
          "output_type": "stream",
          "name": "stdout",
          "text": [
            "2011-10-02 13:27:00+02:00\n"
          ]
        }
      ]
    },
    {
      "cell_type": "code",
      "metadata": {
        "id": "hnysiypig_7q",
        "colab": {
          "base_uri": "https://localhost:8080/"
        },
        "outputId": "fe56ab0b-0b0b-4146-f4ce-0c3b663e4717"
      },
      "source": [
        "# import timezone from pytz module\n",
        "from pytz import timezone\n",
        "# Create timezone US/Eastern\n",
        "east = timezone('US/Eastern')\n",
        "# Localize date\n",
        "loc_dt = east.localize(datetime(2011, 11, 2, 7, 27, 0))\n",
        "print(loc_dt)\n",
        "\n",
        "# Convert localized date into Asia/Kolkata timezone\n",
        "kolkata = timezone(\"Asia/Kolkata\")\n",
        "print(loc_dt.astimezone(kolkata))\n",
        "\n",
        "# Convert localized date into Australia/Sydney timezone\n",
        "au_tz = timezone('Australia/Sydney')\n",
        "print(loc_dt.astimezone(au_tz))"
      ],
      "execution_count": null,
      "outputs": [
        {
          "output_type": "stream",
          "name": "stdout",
          "text": [
            "2011-11-02 07:27:00-04:00\n",
            "2011-11-02 16:57:00+05:30\n",
            "2011-11-02 22:27:00+11:00\n"
          ]
        }
      ]
    },
    {
      "cell_type": "code",
      "metadata": {
        "id": "Sld38qeCwn22"
      },
      "source": [
        "it_it = timezone('Europe/Rome')\n"
      ],
      "execution_count": null,
      "outputs": []
    },
    {
      "cell_type": "code",
      "metadata": {
        "id": "D0MN2vcVhDiL",
        "colab": {
          "base_uri": "https://localhost:8080/"
        },
        "outputId": "64bb7d2c-609c-46cf-bc65-f9e5cdbe87de"
      },
      "source": [
        "# import pandas module as pd\n",
        "import pandas as pd\n",
        "# create date object using to_datetime() function\n",
        "date = pd.to_datetime(\"8th of sep, 2019\")\n",
        "print(date)"
      ],
      "execution_count": null,
      "outputs": [
        {
          "output_type": "stream",
          "text": [
            "2019-09-08 00:00:00\n"
          ],
          "name": "stdout"
        }
      ]
    },
    {
      "cell_type": "code",
      "metadata": {
        "id": "ZS0aRYQ_J_FK",
        "colab": {
          "base_uri": "https://localhost:8080/"
        },
        "outputId": "e5a6c579-f449-4706-bf8b-32f2616f84fc"
      },
      "source": [
        "import numpy as np\n",
        "np.arange(12)"
      ],
      "execution_count": null,
      "outputs": [
        {
          "output_type": "execute_result",
          "data": {
            "text/plain": [
              "array([ 0,  1,  2,  3,  4,  5,  6,  7,  8,  9, 10, 11])"
            ]
          },
          "metadata": {
            "tags": []
          },
          "execution_count": 44
        }
      ]
    },
    {
      "cell_type": "code",
      "metadata": {
        "id": "6ZjXka8pKHFR",
        "colab": {
          "base_uri": "https://localhost:8080/"
        },
        "outputId": "161a7b90-f434-4546-d255-e050dcff1024"
      },
      "source": [
        "date + pd.to_timedelta(np.arange(12), 'D')"
      ],
      "execution_count": null,
      "outputs": [
        {
          "output_type": "execute_result",
          "data": {
            "text/plain": [
              "DatetimeIndex(['2019-09-08', '2019-09-09', '2019-09-10', '2019-09-11',\n",
              "               '2019-09-12', '2019-09-13', '2019-09-14', '2019-09-15',\n",
              "               '2019-09-16', '2019-09-17', '2019-09-18', '2019-09-19'],\n",
              "              dtype='datetime64[ns]', freq=None)"
            ]
          },
          "metadata": {
            "tags": []
          },
          "execution_count": 48
        }
      ]
    },
    {
      "cell_type": "code",
      "metadata": {
        "id": "i81PDNpuhHuh",
        "colab": {
          "base_uri": "https://localhost:8080/"
        },
        "outputId": "8440b59b-b251-4329-b3d2-9ccfe5fe81b3"
      },
      "source": [
        "import numpy as np\n",
        "# Create date series using numpy and to_timedelta() function\n",
        "date_series = date + pd.to_timedelta(np.arange(12), 'D')\n",
        "print(date_series)\n",
        "\n",
        "# Create date series using date_range() function\n",
        "date_series = pd.date_range('09/08/2019', periods = 12, freq ='D')\n",
        "print(date_series)"
      ],
      "execution_count": null,
      "outputs": [
        {
          "output_type": "stream",
          "text": [
            "DatetimeIndex(['2019-09-08', '2019-09-09', '2019-09-10', '2019-09-11',\n",
            "               '2019-09-12', '2019-09-13', '2019-09-14', '2019-09-15',\n",
            "               '2019-09-16', '2019-09-17', '2019-09-18', '2019-09-19'],\n",
            "              dtype='datetime64[ns]', freq=None)\n",
            "DatetimeIndex(['2019-09-08', '2019-09-09', '2019-09-10', '2019-09-11',\n",
            "               '2019-09-12', '2019-09-13', '2019-09-14', '2019-09-15',\n",
            "               '2019-09-16', '2019-09-17', '2019-09-18', '2019-09-19'],\n",
            "              dtype='datetime64[ns]', freq='D')\n"
          ],
          "name": "stdout"
        }
      ]
    },
    {
      "cell_type": "code",
      "metadata": {
        "id": "wXqbCexahKrM",
        "colab": {
          "base_uri": "https://localhost:8080/",
          "height": 202
        },
        "outputId": "b792fae0-ddb4-4518-d6f0-cf08310ce928"
      },
      "source": [
        "# Create a DataFrame with one column date\n",
        "df = pd.DataFrame()\n",
        "df['date'] = date_series \n",
        "df.head()"
      ],
      "execution_count": null,
      "outputs": [
        {
          "output_type": "execute_result",
          "data": {
            "text/html": [
              "<div>\n",
              "<style scoped>\n",
              "    .dataframe tbody tr th:only-of-type {\n",
              "        vertical-align: middle;\n",
              "    }\n",
              "\n",
              "    .dataframe tbody tr th {\n",
              "        vertical-align: top;\n",
              "    }\n",
              "\n",
              "    .dataframe thead th {\n",
              "        text-align: right;\n",
              "    }\n",
              "</style>\n",
              "<table border=\"1\" class=\"dataframe\">\n",
              "  <thead>\n",
              "    <tr style=\"text-align: right;\">\n",
              "      <th></th>\n",
              "      <th>date</th>\n",
              "    </tr>\n",
              "  </thead>\n",
              "  <tbody>\n",
              "    <tr>\n",
              "      <th>0</th>\n",
              "      <td>2019-09-08</td>\n",
              "    </tr>\n",
              "    <tr>\n",
              "      <th>1</th>\n",
              "      <td>2019-09-09</td>\n",
              "    </tr>\n",
              "    <tr>\n",
              "      <th>2</th>\n",
              "      <td>2019-09-10</td>\n",
              "    </tr>\n",
              "    <tr>\n",
              "      <th>3</th>\n",
              "      <td>2019-09-11</td>\n",
              "    </tr>\n",
              "    <tr>\n",
              "      <th>4</th>\n",
              "      <td>2019-09-12</td>\n",
              "    </tr>\n",
              "  </tbody>\n",
              "</table>\n",
              "</div>"
            ],
            "text/plain": [
              "        date\n",
              "0 2019-09-08\n",
              "1 2019-09-09\n",
              "2 2019-09-10\n",
              "3 2019-09-11\n",
              "4 2019-09-12"
            ]
          },
          "metadata": {
            "tags": []
          },
          "execution_count": 53
        }
      ]
    },
    {
      "cell_type": "code",
      "metadata": {
        "id": "kIStt0LUhQzx",
        "colab": {
          "base_uri": "https://localhost:8080/",
          "height": 202
        },
        "outputId": "98e1848e-dc78-4604-a3bc-e024c50c0a65"
      },
      "source": [
        "# Extract year, month, day, hour, and minute. Assign all these date component to new column.\n",
        "df['year'] = df['date'].dt.year\n",
        "df['month'] = df['date'].dt.month\n",
        "df['day'] = df['date'].dt.day\n",
        "df['hour'] = df['date'].dt.hour\n",
        "df['minute'] = df['date'].dt.minute\n",
        "df.head()"
      ],
      "execution_count": null,
      "outputs": [
        {
          "output_type": "execute_result",
          "data": {
            "text/html": [
              "<div>\n",
              "<style scoped>\n",
              "    .dataframe tbody tr th:only-of-type {\n",
              "        vertical-align: middle;\n",
              "    }\n",
              "\n",
              "    .dataframe tbody tr th {\n",
              "        vertical-align: top;\n",
              "    }\n",
              "\n",
              "    .dataframe thead th {\n",
              "        text-align: right;\n",
              "    }\n",
              "</style>\n",
              "<table border=\"1\" class=\"dataframe\">\n",
              "  <thead>\n",
              "    <tr style=\"text-align: right;\">\n",
              "      <th></th>\n",
              "      <th>date</th>\n",
              "      <th>year</th>\n",
              "      <th>month</th>\n",
              "      <th>day</th>\n",
              "      <th>hour</th>\n",
              "      <th>minute</th>\n",
              "    </tr>\n",
              "  </thead>\n",
              "  <tbody>\n",
              "    <tr>\n",
              "      <th>0</th>\n",
              "      <td>2019-09-08</td>\n",
              "      <td>2019</td>\n",
              "      <td>9</td>\n",
              "      <td>8</td>\n",
              "      <td>0</td>\n",
              "      <td>0</td>\n",
              "    </tr>\n",
              "    <tr>\n",
              "      <th>1</th>\n",
              "      <td>2019-09-09</td>\n",
              "      <td>2019</td>\n",
              "      <td>9</td>\n",
              "      <td>9</td>\n",
              "      <td>0</td>\n",
              "      <td>0</td>\n",
              "    </tr>\n",
              "    <tr>\n",
              "      <th>2</th>\n",
              "      <td>2019-09-10</td>\n",
              "      <td>2019</td>\n",
              "      <td>9</td>\n",
              "      <td>10</td>\n",
              "      <td>0</td>\n",
              "      <td>0</td>\n",
              "    </tr>\n",
              "    <tr>\n",
              "      <th>3</th>\n",
              "      <td>2019-09-11</td>\n",
              "      <td>2019</td>\n",
              "      <td>9</td>\n",
              "      <td>11</td>\n",
              "      <td>0</td>\n",
              "      <td>0</td>\n",
              "    </tr>\n",
              "    <tr>\n",
              "      <th>4</th>\n",
              "      <td>2019-09-12</td>\n",
              "      <td>2019</td>\n",
              "      <td>9</td>\n",
              "      <td>12</td>\n",
              "      <td>0</td>\n",
              "      <td>0</td>\n",
              "    </tr>\n",
              "  </tbody>\n",
              "</table>\n",
              "</div>"
            ],
            "text/plain": [
              "        date  year  month  day  hour  minute\n",
              "0 2019-09-08  2019      9    8     0       0\n",
              "1 2019-09-09  2019      9    9     0       0\n",
              "2 2019-09-10  2019      9   10     0       0\n",
              "3 2019-09-11  2019      9   11     0       0\n",
              "4 2019-09-12  2019      9   12     0       0"
            ]
          },
          "metadata": {
            "tags": []
          },
          "execution_count": 54
        }
      ]
    },
    {
      "cell_type": "code",
      "metadata": {
        "id": "d3JEZg5lhVk8",
        "colab": {
          "base_uri": "https://localhost:8080/",
          "height": 202
        },
        "outputId": "528f0c78-a3c7-4575-dce7-199c4663dd0a"
      },
      "source": [
        "# get Weekday and Day of Year. Assign all these date component to new column.\n",
        "df['weekday'] = df['date'].dt.weekday\n",
        "df['dayofyear'] = df['date'].dt.dayofyear\n",
        "df.head()"
      ],
      "execution_count": null,
      "outputs": [
        {
          "output_type": "execute_result",
          "data": {
            "text/html": [
              "<div>\n",
              "<style scoped>\n",
              "    .dataframe tbody tr th:only-of-type {\n",
              "        vertical-align: middle;\n",
              "    }\n",
              "\n",
              "    .dataframe tbody tr th {\n",
              "        vertical-align: top;\n",
              "    }\n",
              "\n",
              "    .dataframe thead th {\n",
              "        text-align: right;\n",
              "    }\n",
              "</style>\n",
              "<table border=\"1\" class=\"dataframe\">\n",
              "  <thead>\n",
              "    <tr style=\"text-align: right;\">\n",
              "      <th></th>\n",
              "      <th>date</th>\n",
              "      <th>year</th>\n",
              "      <th>month</th>\n",
              "      <th>day</th>\n",
              "      <th>hour</th>\n",
              "      <th>minute</th>\n",
              "      <th>weekday</th>\n",
              "      <th>dayofyear</th>\n",
              "    </tr>\n",
              "  </thead>\n",
              "  <tbody>\n",
              "    <tr>\n",
              "      <th>0</th>\n",
              "      <td>2019-09-08</td>\n",
              "      <td>2019</td>\n",
              "      <td>9</td>\n",
              "      <td>8</td>\n",
              "      <td>0</td>\n",
              "      <td>0</td>\n",
              "      <td>6</td>\n",
              "      <td>251</td>\n",
              "    </tr>\n",
              "    <tr>\n",
              "      <th>1</th>\n",
              "      <td>2019-09-09</td>\n",
              "      <td>2019</td>\n",
              "      <td>9</td>\n",
              "      <td>9</td>\n",
              "      <td>0</td>\n",
              "      <td>0</td>\n",
              "      <td>0</td>\n",
              "      <td>252</td>\n",
              "    </tr>\n",
              "    <tr>\n",
              "      <th>2</th>\n",
              "      <td>2019-09-10</td>\n",
              "      <td>2019</td>\n",
              "      <td>9</td>\n",
              "      <td>10</td>\n",
              "      <td>0</td>\n",
              "      <td>0</td>\n",
              "      <td>1</td>\n",
              "      <td>253</td>\n",
              "    </tr>\n",
              "    <tr>\n",
              "      <th>3</th>\n",
              "      <td>2019-09-11</td>\n",
              "      <td>2019</td>\n",
              "      <td>9</td>\n",
              "      <td>11</td>\n",
              "      <td>0</td>\n",
              "      <td>0</td>\n",
              "      <td>2</td>\n",
              "      <td>254</td>\n",
              "    </tr>\n",
              "    <tr>\n",
              "      <th>4</th>\n",
              "      <td>2019-09-12</td>\n",
              "      <td>2019</td>\n",
              "      <td>9</td>\n",
              "      <td>12</td>\n",
              "      <td>0</td>\n",
              "      <td>0</td>\n",
              "      <td>3</td>\n",
              "      <td>255</td>\n",
              "    </tr>\n",
              "  </tbody>\n",
              "</table>\n",
              "</div>"
            ],
            "text/plain": [
              "        date  year  month  day  hour  minute  weekday  dayofyear\n",
              "0 2019-09-08  2019      9    8     0       0        6        251\n",
              "1 2019-09-09  2019      9    9     0       0        0        252\n",
              "2 2019-09-10  2019      9   10     0       0        1        253\n",
              "3 2019-09-11  2019      9   11     0       0        2        254\n",
              "4 2019-09-12  2019      9   12     0       0        3        255"
            ]
          },
          "metadata": {
            "tags": []
          },
          "execution_count": 55
        }
      ]
    },
    {
      "cell_type": "code",
      "metadata": {
        "id": "OL_nIVNlhYe6",
        "colab": {
          "base_uri": "https://localhost:8080/",
          "height": 232
        },
        "outputId": "9f9bb2a5-37f2-41bf-9f3a-4c0d0f8f2d7e"
      },
      "source": [
        "# Assign date column to dataframe index\n",
        "df.index = df.date\n",
        "df.head()"
      ],
      "execution_count": null,
      "outputs": [
        {
          "output_type": "execute_result",
          "data": {
            "text/html": [
              "<div>\n",
              "<style scoped>\n",
              "    .dataframe tbody tr th:only-of-type {\n",
              "        vertical-align: middle;\n",
              "    }\n",
              "\n",
              "    .dataframe tbody tr th {\n",
              "        vertical-align: top;\n",
              "    }\n",
              "\n",
              "    .dataframe thead th {\n",
              "        text-align: right;\n",
              "    }\n",
              "</style>\n",
              "<table border=\"1\" class=\"dataframe\">\n",
              "  <thead>\n",
              "    <tr style=\"text-align: right;\">\n",
              "      <th></th>\n",
              "      <th>date</th>\n",
              "      <th>year</th>\n",
              "      <th>month</th>\n",
              "      <th>day</th>\n",
              "      <th>hour</th>\n",
              "      <th>minute</th>\n",
              "      <th>weekday</th>\n",
              "      <th>dayofyear</th>\n",
              "    </tr>\n",
              "    <tr>\n",
              "      <th>date</th>\n",
              "      <th></th>\n",
              "      <th></th>\n",
              "      <th></th>\n",
              "      <th></th>\n",
              "      <th></th>\n",
              "      <th></th>\n",
              "      <th></th>\n",
              "      <th></th>\n",
              "    </tr>\n",
              "  </thead>\n",
              "  <tbody>\n",
              "    <tr>\n",
              "      <th>2019-09-08</th>\n",
              "      <td>2019-09-08</td>\n",
              "      <td>2019</td>\n",
              "      <td>9</td>\n",
              "      <td>8</td>\n",
              "      <td>0</td>\n",
              "      <td>0</td>\n",
              "      <td>6</td>\n",
              "      <td>251</td>\n",
              "    </tr>\n",
              "    <tr>\n",
              "      <th>2019-09-09</th>\n",
              "      <td>2019-09-09</td>\n",
              "      <td>2019</td>\n",
              "      <td>9</td>\n",
              "      <td>9</td>\n",
              "      <td>0</td>\n",
              "      <td>0</td>\n",
              "      <td>0</td>\n",
              "      <td>252</td>\n",
              "    </tr>\n",
              "    <tr>\n",
              "      <th>2019-09-10</th>\n",
              "      <td>2019-09-10</td>\n",
              "      <td>2019</td>\n",
              "      <td>9</td>\n",
              "      <td>10</td>\n",
              "      <td>0</td>\n",
              "      <td>0</td>\n",
              "      <td>1</td>\n",
              "      <td>253</td>\n",
              "    </tr>\n",
              "    <tr>\n",
              "      <th>2019-09-11</th>\n",
              "      <td>2019-09-11</td>\n",
              "      <td>2019</td>\n",
              "      <td>9</td>\n",
              "      <td>11</td>\n",
              "      <td>0</td>\n",
              "      <td>0</td>\n",
              "      <td>2</td>\n",
              "      <td>254</td>\n",
              "    </tr>\n",
              "    <tr>\n",
              "      <th>2019-09-12</th>\n",
              "      <td>2019-09-12</td>\n",
              "      <td>2019</td>\n",
              "      <td>9</td>\n",
              "      <td>12</td>\n",
              "      <td>0</td>\n",
              "      <td>0</td>\n",
              "      <td>3</td>\n",
              "      <td>255</td>\n",
              "    </tr>\n",
              "  </tbody>\n",
              "</table>\n",
              "</div>"
            ],
            "text/plain": [
              "                 date  year  month  day  hour  minute  weekday  dayofyear\n",
              "date                                                                     \n",
              "2019-09-08 2019-09-08  2019      9    8     0       0        6        251\n",
              "2019-09-09 2019-09-09  2019      9    9     0       0        0        252\n",
              "2019-09-10 2019-09-10  2019      9   10     0       0        1        253\n",
              "2019-09-11 2019-09-11  2019      9   11     0       0        2        254\n",
              "2019-09-12 2019-09-12  2019      9   12     0       0        3        255"
            ]
          },
          "metadata": {
            "tags": []
          },
          "execution_count": 56
        }
      ]
    },
    {
      "cell_type": "code",
      "metadata": {
        "id": "CKfCh36_hkDr"
      },
      "source": [
        ""
      ],
      "execution_count": null,
      "outputs": []
    }
  ]
}