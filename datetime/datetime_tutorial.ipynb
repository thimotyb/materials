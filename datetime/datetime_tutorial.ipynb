{
  "nbformat": 4,
  "nbformat_minor": 0,
  "metadata": {
    "colab": {
      "name": "datetime-tutorial.ipynb",
      "provenance": [],
      "authorship_tag": "ABX9TyNDJ80eho1Z2jMYlUqCKDfF",
      "include_colab_link": true
    },
    "kernelspec": {
      "name": "python3",
      "display_name": "Python 3"
    }
  },
  "cells": [
    {
      "cell_type": "markdown",
      "metadata": {
        "id": "view-in-github",
        "colab_type": "text"
      },
      "source": [
        "<a href=\"https://colab.research.google.com/github/thimotyb/materials/blob/master/datetime/datetime_tutorial.ipynb\" target=\"_parent\"><img src=\"https://colab.research.google.com/assets/colab-badge.svg\" alt=\"Open In Colab\"/></a>"
      ]
    },
    {
      "cell_type": "code",
      "metadata": {
        "id": "dYrpz9dIWgog"
      },
      "source": [
        ""
      ],
      "execution_count": null,
      "outputs": []
    },
    {
      "cell_type": "markdown",
      "metadata": {
        "id": "E1u2rG3_WyNG"
      },
      "source": [
        "### Date Time Tutorial"
      ]
    },
    {
      "cell_type": "code",
      "metadata": {
        "id": "NkMdnL7FWrxG",
        "outputId": "3dab51e2-2d39-4397-d38e-892224ee9791",
        "colab": {
          "base_uri": "https://localhost:8080/",
          "height": 52
        }
      },
      "source": [
        "# import datetime class from datetime module\n",
        "from datetime import datetime\n",
        "\n",
        "# get current date\n",
        "datetime_object = datetime.now()\n",
        "print(datetime_object)\n",
        "print('Type :- ',type(datetime_object))"
      ],
      "execution_count": 1,
      "outputs": [
        {
          "output_type": "stream",
          "text": [
            "2020-10-23 21:26:34.314439\n",
            "Type :-  <class 'datetime.datetime'>\n"
          ],
          "name": "stdout"
        }
      ]
    },
    {
      "cell_type": "code",
      "metadata": {
        "id": "cUdgu8ArWw8t"
      },
      "source": [
        ""
      ],
      "execution_count": null,
      "outputs": []
    }
  ]
}