{
  "nbformat": 4,
  "nbformat_minor": 0,
  "metadata": {
    "colab": {
      "name": "Heapq-tutorial.ipynb",
      "provenance": [],
      "collapsed_sections": [],
      "authorship_tag": "ABX9TyNVelKCd00bJKUrmrLlT8kE",
      "include_colab_link": true
    },
    "kernelspec": {
      "name": "python3",
      "display_name": "Python 3"
    }
  },
  "cells": [
    {
      "cell_type": "markdown",
      "metadata": {
        "id": "view-in-github",
        "colab_type": "text"
      },
      "source": [
        "<a href=\"https://colab.research.google.com/github/thimotyb/materials/blob/master/heapq/Heapq_tutorial.ipynb\" target=\"_parent\"><img src=\"https://colab.research.google.com/assets/colab-badge.svg\" alt=\"Open In Colab\"/></a>"
      ]
    },
    {
      "cell_type": "markdown",
      "metadata": {
        "id": "7A52WLramddt"
      },
      "source": [
        "## Heapq Tutorial"
      ]
    },
    {
      "cell_type": "markdown",
      "metadata": {
        "id": "FDqGRll_no1E"
      },
      "source": [
        "Heap Property:\n",
        "h[k] <= h[2*k + 1] and h[k] <= h[2*k + 2]\n",
        "\n",
        "![image.png](data:image/png;base64,iVBORw0KGgoAAAANSUhEUgAAARkAAABiCAYAAABkgqehAAAdmElEQVR4Ae2dCbxN1RfH9dekomROVIaShAylDEVopjSaSYkMSeapjJmHVEhFCsnQoMyEKJVQkTklmoyZE+3/57s+zu267n3v3r3Puffc9/b6fN7n3nfu2fus/dv7rL32WmvvlUFZsgj4FIF//vlHbdq0Sc2fP1+NGzdO9enTR7Vq1Uo9+uijqmrVqqp06dKqcOHC6rLLLlOXXHKJuuCCC9Q555yjMmbMqM4++2x13nnnqYsuukhlz55dXXHFFapYsWKqfPny6r777lONGzdWnTp1UiNGjFDTp09XX3/9tdq9e7dPkUhutjIkE/tHjx5Vn3zyierevbuqWbOmDBoGEAMrQ4YMMrAYbIUKFVK33nqrDKSBAweqefPmqf379ydTU9MVr8eOHVNffvmlev3119Wzzz6r7rrrLlWgQAF11llnqYIFC6oqVaqohg0bqs6dO4tQmDx5svQpgmHjxo1q586dat++ferIkSPq+PHj6sSJEwoBRb0HDx5Uf/75p/rpp5/U999/rz777DP14YcfqjfeeEP169dPtWzZUt1///2qVKlSKmvWrOrSSy9V5cqVU40aNVKMndmzZ6tff/01XfWH241NCiHz3nvvqQceeED973//U7fffrsImWnTpqlvv/1W7dq1SwYWwDCwGGzMfosWLVJjx46VQXvbbbep888/X5UtW1YG6pIlS9zG0dYXAwL025gxY1STJk1UiRIlRPPgJefFHjRokJo5c6b04b///htDre7cikBatmxZQOChMeXIkUPly5dPxuCLL76oFi9eLGPNnSem/Vp8LWRGjhwpMxmCBXX5wIEDRj2CcOnWrZvMWvnz51dt27YVNdmoUls4VQTWrFmjhg0bJhpDtmzZ1DXXXCMC5dVXXxX8T548mWodib5h69at6t1335Uxc/PNN4tgZPJ64YUX1NKlSxPNnq+f70sh88EHH8hSCDUW9dYLWrt2rerRo4eo5RUrVlTjx4/34jHpsk6WKGifaCpoAFdffbVq1qyZYpmzY8eONIHJ4cOHZSnVsWNHVaZMGbEJYStiHKFdW/oPAd8JmebNm8ugfP/99//j0uNvPOvuu+8W4yDqOssuS7Eh8Pvvv8sS6J577hFbCni+9NJLasOGDbFVlKR3Yxd688031UMPPaQyZcqkqlWrpl5++WVrz1FK+UbIrFu3TmwmTZs2DdhY4j3eMD7WqVNH5c6dWw0ZMiTej0+65/31119iu7jzzjvFswN2LCkOHTqUdG1xk2EMzzNmzFANGjRQF154oRiyWe7juEiP5Ashs2DBAsVanZnPD7Ry5Ur18MMPi3v0rbfe8gNLvuIBw2zt2rXFEA9OU6ZMsdpfhB5C4CB4cVzgfHj88cfVp59+GuHutHk54ULm448/lsGKt8hvRHxGhQoVRPX94osv/MZeXPnB8IkN68orrxRMMNru3bs3rjwk+8N+++03NXjwYPGolSxZUtzx2K/SOiVUyKDB4JYm9sXPNGrUKImhaN++vUoGT4ibWNI3tWrVUhdffLF65pln1DfffONm9WfUhduaZQUvH38YWIl9SWvE2K9bt67YbwgwxBGRVilhQua7776TwCeiLZOB8Big6l577bW+F4qmePKio6kQw3LjjTeKQdfEGE59xC7NmTNH6iKMACwxElM/wZPEorCcIACPT2wZROs6UbxE8CLoCD1ACyB+pX79+hK1C6/UjbaVbLR9+3YJq6D9GI2J70prlBAhw+zEAH7llVe08NyzZ4/CVkJoePHixWUwEvGLVR93KfaCiRMnatWdWiGWdU6MTWr3JtvvCFLiPnLmzKkefPBBiaqNtQ1btmxRYMTSCg0IoYy2SuQuHpcnnnhC9ezZUwzG2HZWrFghAoggOCJ2IxFCjqjtn3/+Wa1evVp4Ywz07dtX4SxA6LB1AKGE4OLa6NGj1apVqyJV6avrCGK8UeBFW8AmrVBChAxeiDZt2sSMIZGWWOwZtBjSGEREjyK0oL///lutX79eQsYJTUfgeGHrwatCmDsRxHikkp14cQlMZHsG8SyE30dDCAXsVggNXNbMxgjgGjVqSFQ2BmHqiudyh75Zvny5TGBMQtddd51oQPfee694DAkM9DtNmDBB9mVVqlRJETOW7BR3IcOGNILfYiFUSFRr1OqhQ4dGHfmLPQFDJXtQvCC2LaDGE5mcjMR+HuwBtOG5555TqO6pEX3Bcoc+ZGnDJwFpxBoRK+JH+uOPP9TUqVMVMVhsqESrat26tcIu4meaNGmSCBv2brEcTFaKq5BhVmNgYo+JhlC90VxQg9nrokM//vijCKd33nlHp3iqZWgLG+qwMSSLUZgNf2xERLggIHgJI9Evv/yiXnvtNVn6YCOhrV26dBENBs0xGQntl2UWy6rLL79ctLivvvrKt01hWVi0aFHREFleJhvFVciwhIk2yI372Kr//PPPG2PKniXsDF7uxGaZwaCNdqlh3CiNClhWooWwLGJ5hEs1HBGlO2DAAHFVs6ud5e3bb7+dojAKV08yXCMIFPsRWjIClCV4PJd3sWBEHBmBoti1WOImC8VNyLCNnzVmasRLescdd8gfA8Ateuqpp1wRWCnxwyDIkiWLRHumdF8ifmODIjaTJ598MqwXZtu2bbIDmhctT548srTgmIP0RCyv8fAgWNHwWE76jXDvo0mihfbu3dtv7IXlJy5CBmDy5s2b6m5VlkRoL9FqO2FbFOEiKjL2Ga9p7ty5ojV50QYd3tmoeP3118sOaM5fCSb6hf021atXlxcLjwz8p3fC3Y6mx1hkcsKZ4DeCRzRMdrTTx36muAgZVHR25EYi1FNmWE468zLY64YbbkhV0EXiMZbrmzdvlqUTwWuJInDkBDgw5ZCmYOJoAvDG3YuXzu+DNJj3eH4nVIKlVObMmcXrhrbnNyJinnGNBsYBXn4kz4UMHgdUu0gdhEvxpptukrgGrwFiduLQoXgQgpM4Efb2sH8lXoR2gqeIwLXhw4cHHos9hjgMjiXArYvNxa/eoADTPvmCLY8lCqETnM4Hxn4jTvnDqdK/f3+/seb9LmxebP7CEW5FZgkGfzyIAL3HHnssHo8KPOPpp5+Wo0A5CsFrIr6C81tQ8Qlug/B+4a5Fa6Htdjmk3wsYW9EAOVMYG6PfCIM9x9LecsstEivkF/481WRwlSL9w82YxK7kypUrrrEKLCGYyeNNeMiwi3h1tgo2AwYXGuHChQulebNmzZJreCM4EzmZvBHx7p9Yn8dykzOksWX5MaIYAch5xZgp/ECeCpmuXbvKQc2hDWVm5YWIt/WeeBBmoUQQSxeiYd2Ox0A9Rk1m+QMRUwG2nJlLsKAl7xDAm8hWll69enn3EM2ameDZXkNUOmcWJ5I8EzLYJDgjJtgyT/AWNgr2xcSL2FrPhjtecva/sGyA+J/r/B4vwpPDafhsj3CINT4u01iJoCyibQnhR0Mi6phtFMyuoYbeWOu290ePALZGxjNHgoQ6LQgEJRtCIokxR1hFOHc3IQoEJXpNngkZdsZi8XYIyYqK2aJFC+dSXD45fJzgM2YchB6zPi86/3Pd9HDyWBvBAUY827GNOJkUcLFHS+wVIvqWIyg4LpSoVQa6zcIQLYLu38d4x8HBthmH2LuFGzzRR5mwYmAyYoNq8JId2x05qtjv5SV5JmRQ05z9Fj/88IPslnYjelcHDJJ4nXvuuZKbid3a/PE/1xNB7POhczF8wwsDkd3PqRFxLsyYCBS8HdhbUIndXoKlxof9PTwCBJKiXRK/whGk7dq1k/6tXLly+AJxvorWzgSHdgNhIHa2lnjJiidChhkVNynEC8Deo2B3qpcNClc32govsiNgnBc73lpMMG/EpsAHyzc+r7rqquCfz/iOoZw2sNwksBHhwjGhlvyHAPvC2GtEgjr6Fq3TLycrfv7553IeD1oMmj38MeF6qc14ImSIHMUgie2BhpCtL9EUrM0kUotBA2GJFCxgnIEY7hgC1vXsQEdoYzhGi0kLx0skejx4+XwOzyJXGP3q/JHexy/E2TXss0OLgT/eB7ZReEWuCxkMvsS+EJPC6WbYIPxAwdoMGkGitBiMvBicw2lWoUsmNiWi6eARYz9XejuA2g/jJhYeWM4ygfDyhuvfYHtILPW6eS82IyZ+R4N2hKCX2ozrQgbhgj0Go2o8cydF0xFoM/CVKFuMwyNGXgQKSyRUaWdABu+tItyf34oUKeI7HJ122M/TEeBYDHb741xgMuHFdV5iJhY0/EQSy2vi1pj8g3nzWptxXciQwhOQ2VPhN0J7YbmRKC0mHB4skRA4CBhmF2xX2bNnl4GAx8JS8iHAuULYYIijYbLAhuZ4OJ1I7ES1irFP3AxjizOQihUrJpMcYw+jsBe2mQyOpLWf/62fLRYWCzsGXB0DriszrgppOtvPZPkz6x2LX9rHTzQZs2Z6W9oOQjN8LX4WPzMEzEoz/qyQMcNQDHuGVXha3AoZM3gtfub4WSFjhqEVMhY/QwTMiieDELRCxqyPrZCx+BkiYFbcChkz/KR0MoDoQjM9q8LiZwatxc8cP6vJmGFoNRmLnyECZsWTQQhaIWPWx1bIWPwMETArboWMGX5SOhlAdKGZnlVh8TOD1uJnjp/VZMwwtJqMxc8QAbPiySAErZAx62MrZCx+hgiYFbdCxgw/KZ0MILrQTM+qsPiZQWvxM8fPajJmGFpNxuJniIBZ8WQQglbImPWxFTIWP0MEzIpbIWOGn5ROBhBdaKZnVVj8zKC1+JnjZzUZMwytJmPxM0TArHgyCEHXhMxHH30kJ7rRaDdTn5iCSA7qDh06yOnxnPzFH0nQSLrlRupWU/42b96smjVrpgoWLBg4oYxDw0mn8dtvv5mNQKWMhCDHNNK+lP7g24RM8ePZq1evluwNefLkkfOTyRLQqFGj0xIL6vJoyh+5yBs3bixHrXLkJePvmmuukfHHIfGmpMsfZ0an1K/Bv9WtW1ebzVP1mB0KdfToUUVS+WCm/CJkyOjHUZYOb84Rg87/F198sfHJ/9SlSwhmBp3DD5n+gs9ehfdYkr6F40OXP7JtOnwhbCL9FS9ePNxjo76my5/zgMmTJwcw4xxdjrokpxX1wvPy5cudW7U+TfibMGFCICNAjhw5VKVKlVS5cuUkoyP1Mh6d3GRazBlMImRPiNSnznWODIXP+vXr67LnjCH9l4RkVsy6MEKiqBtuuEG++0HIHD58WFKIwBvJ7jlzlVQQnL9KwnQnJw5aDdd0ifp1iEOnOSic8qQ8QaOBTpw4oRYsWHAa7zr1O2V0+du1a5czQCRRmVOf25+6/MEH4885hJ181EeOHBH24J3spdSNppWI/kVLRujBA5o0KZod4pzdRx99VH4jc8DBgwedn2L+NMEvpYcxyZQoUUJ4NMmSAX9GyyUSRHFoOKo9TDkqmB+EzPjx4wUgZovt27efgSdC5xQARhkYdTuZw8MpW7hwYYU2GEoIGoc/VG5d0uUPoUdZZjMvSZc/eGI2pny4fNMInPLly6tHHnnEaFmsyx+5ySnLEi6ckNuzZ0+gf00O3dflL7U+JZkgdderVy+1W1P8nTqMhEzXrl1Py0rgJyEzevRoUU2bNGkSEQTyQwGCSW4o3U4eMGCAqlKlihoyZEhY/hDajro6c+bMsPdEc1GXP3IIUZYlm5ekyx8vKcsichxhd/OKdPnr16+f4Ef2jkiUNWtWuYclny7p8pfS85iUmZzRtMlhb0LwZyRkQiW0n4RMNMBgkwEEbCO65EUnwwu5lMmRQ/0mua51+Zs/f748u1ChQrrQRFVOlz8mBsqyTPeSdPljTFEWIU3Cw1DavXu3/M49JnY3Xf5C+Qn+n1ze1Pviiy8GX9b6Tj1GQib0qckkZJyZmpmQDtclLzoZXtDEqDt37twBW4MOj7r8TZ06VZ5funRpEXJohCVLlhTPHFkS+/btq/bt26fD0mlldPnr1q2b8IdnDkLbw6NEelhyHaEhupFDSJc/bGvkNKI8PGIjdAi+yGnOb3fffbdzWetTl79ID2NCwwSSL1++sMv4SOUiXYe/dClkGAAVK1aUTsauZEJudjK2mfXr1yuWoRg0+ZsxY4YJe9JGnQrGjh0rZfE0MOhODZbTPkmfGy5/dyzP08UPtyplu3fvHnhhQ3mEPxN7Fu3Q5Y+yLDWcnNhklGTpRA5qlukshWvXrm1k9DXlL1w/3XnnndLm1157LdzPMV871Sd63pFwT0sGTQYB07BhQwGSpcD+/fvDNSXqayaDMPgheBmclwSvBAa3VatWBd+i9V2Xv0GDBgX4QTP48ssvZWbbu3evwoaAQZO6mfFMMnLq8nffffcFnn/ppZeq119/Xe3cuVO0vnnz5kl6X+omFXCwFhEriLr88RzsahiAr7jiigCW1McfXtlRo0aFNQrHwqMJf6HPQYuhPoRzuCVe6P3R/H+qvelHyDDYggfnli1bosEpxXvc6uTg+A7qRAC2b9/e2H2syx/J4clljpcrHPG746KNZLwOVy70mi5/1atXlxcCLSuci3Xbtm0B9/aYMWNCHxv1/7r8MZndddddwmOpUqUER5aXf/zxhyztnKUUaZMJrdAlXf7CPQ/NivrQDt0i6ks3yyU8EGXLlhUQr732WiO3ZnAHuNnJGNJRsadMmRKIUShSpIhCe9AlN/kL5YEgLepHg9UlXf4c9zUaQSRyXhrsH7qky5+z3Iyk6SFsnEDRadOm6bIn+GsXDipIjm4CQXE2/PTTT0G/mH0Fv3QhZLBzkNCeBt96661GL20o5LqDMLSe0P/RutBmqB8bjS55xR/8DB48WPhL6UVPjW9d/kgWT9mUDKdOLBJRtrqky59ji0mp7zBUU/9jjz2my56U1y4cVNBxNGAzcpNoX5oXMuwPYY1JYzEWBkdeugGm7iCM5tlEilJ/hQoVork97D1e8oeLk/qJ9NYlXf4cm1FKz+7du7fwZ+Lm1uUPWxBlUzKg9uzZU+5JhBAM7S/HngpPbhIYpGkhwxKJsHIa2qJFC6O1byTgdQYha/Bq1aqJcTIl71Hz5s2FdyJXdUmHP571zjvvKEL12XwYiZzQeOwKuqTL3+effy7Y4P2K5Kp2DPyJ0BRY5tK2lF7aNm3ayD0EZeqSLn7Bz8NADY7UtWTJkuCfjL9TZ5oWMo7hjX0sJsa1lJDW7WS0E8piwAzHG+5sthxwz5NPPpkSCyn+pssf7lbK1qhRI2z9W7duDRhW33zzzbD3RHNRlz8wc7w2CMNQwsbg7A1LSZsILRf6vy5/jos9JS2FPXXUj8aqS7r8BT+PjcTUw5+J/S+4Tuf7qXrTpnfpww8/FNAwrpm6qR3Awn3qdjIajNOxzLjBxjZsSGyadH5fsWJFuEdHdU2XPycYj/Lssg8OWFy2bFnAXsSMbbIE1eWPxr/11luCETEn48aNC7iD2ZxYuXJl+Q2vXSJc2Oz+dvoPIXLs2LFAf7GvqnXr1vI7xlZnc2zghhi+mODnPGbixInCC4GfbtMpDPSEDNZxwvKD/4iepVKCyIKvE6asS7ogOloMPAXzEu5706ZNddmT9uoW7tKli5Q/1REy87JnxPkfS7+Jexi+dPGj7HPPPRfgBVcxsTHOfhvqxe6wceNG3eZLORP+qKBVq1YBHuEN7cYJHiQAjo2wJmTC39ChQwNbQ+AN7RDNBr6oF+HIstSETPhznuvY1ooWLepccu0T/rSXSxyodKqCVD9r1qypzbQuiHiRouXP9FAe7cYppdAKEMK8HMxqCGheXtzDBMCZki5+znMJbCMYDwGDwCZatUyZMqpPnz4RbSFO2Wg+TfnjGcTzVK1aVRGUB4bghz3LD4eSsX2lQYMGwhN9S2wRdkK2aXBUhSm5gV/nzp3lXUlpaafL56l3UE+T0X1orOXcADHWZ8Zyv+UvFrTOvNfidyYmsVxJBvy0NZlYgDC5NxlANGmf12UtfmYIW/zM8bNCxgxDUTMNq/C0uH1JzOC1+JnjZ4WMGYZWyFj8DBEwK54MQtAKGbM+tkLG4meIgFlxK2TM8JPSyQCiC830rAqLnxm0Fj9z/KwmY4ah1WQsfoYImBVPBiFohYxZH1shY/EzRMCsuBUyZvhJ6WQA0YVmelaFxc8MWoufOX5WkzHD0GoyFj9DBMyKJ4MQtELGrI+tkLH4GSJgVtwKGTP8pHQygOhCMz2rwuJnBq3Fzxw/q8mYYWg1GYufIQJmxZNBCFohY9bHVshY/AwRMCtuhYwZflI6GUB0oZmeVRELfosXL1br1q1TnCoXL4qFP46dePvtt9XSpUsV6Ww4PdBrioU/r3kJV38y8CeaDIzaP4uBHQN2DHgyBsJJx7R87b333pOT8jhqkBnR0ukIcEBVlixZzph0OGja5NT/05+i/x+n9WXKlOkM/rhmciC3Pke2ZGoI+PvEqtS4N/i9UqVKcvwhJ+jt2LHDoKa0V5STDINfZE6bI7uCH4gsjCR24xQ8Z9blOEvOSbbkTwTSrZChO8gwyIn2nKXLDBkptYY/u85drjjInLNeSZ9aokSJwNm0HBnJcZuJpunTpytSsHB+LxkhM2bMKEIGAUjqYUv+RSBdCxm65dChQ3LeKoOV81d79OgRV8NnIocGWRxIVE9iL7SBZs2aSd6dAwcOyFm5aAr58+dPGB7z589XTz31lGgtZGQkpzU8c3g5yzcEoEniu0Rin56ene6FjNPZ5J656aabVI4cOWS2JA3IqlWrnJ/TzCepTUgfwpIIDQ6tgNzbwYTnhhcY2wzepngSHq5nnnlGkUOalKkDBgxQ5HgKpkWLFimyOpA9Mh4epuBn2++xI2CFTAhm5BsitzN5qHPmzCnGxDfeeMMod0/II+L+79q1ayW1Cif6o62R7A5X8MGDB8PyQj4jhAwvfDwI13TLli1FsJQuXVqRXhaeI1H//v1F84qnqz0SL/Z66ghYIRMBI7IOksGRQY9KTo4c0p1OnjxZsZzwM2HInjRpkmSeJP1GgQIFZCn0wQcfqOPHj0fFupfGcJKtIcxJOE/yPfIR9evXLyatafv27VG1w96UeASskEmlD7ADYAzFfUu6WIyMGB3RCngxyBSYaFq5cqUaPXq0aty4seTX5sXFFT1ixAhXcvu40T6yYg4fPlw5Sff4fPnll9W2bdvcqN7W4WMErJCJsnOIr8H4eOWVV6ru3buLwfTZZ58VTYelRcWKFcWWwNKKrIVu5xTG9oB9hPS72Clw2aJlkXCtePHi6vHHHxdBs2bNmihb5O1tGGhJxduiRQt19dVXS/I6hPS0adPE2O7t023tfkLACpkYe4OMgNgPSHdLvuoJEyYoUvYuXLhQDR48WLIFli1bVn5HoyhVqpS69957xYPVsWNH0X5eeuklxXIMA+z48eMVCevRmJjpyczYrl07ERqUw31M4CDeL/JOc61t27Yi5MiRTV5lPxBeutmzZyuyEbL8QfCirQwaNEitXr3aDyxaHhKEgBUymsCfPHlS8hjXqFFD7DV4aRA4wYnpET4IJbSPsWPHKgyWvITkb2ZWxyaBRsIyh3zceFW6du2qBg4cKELko48+Ul999ZXauXOnJpfeFcMmgl0FbQ6vHBoVSe6ff/55EbjgY8kiAAJWyLgwDvbs2SPaSK1atSRSlmjiXr16pZltC3hx5s6dK8F6eKbI250rVy6FgCWAb8mSJerEiRMuIGmrSIsIWCHjcq8yg8+ZM0e1b99esWzCZcyeGjQYbBRE1vqVcGljRMa93alTJ1maEYyXNWtW0VKIisZrtWnTJr82wfLlQwSskPG4UzCAzpo1S73wwgvy0ubNm1dly5ZNsWeKCNuhQ4fKcuq7776TaFYv2cF+Q6Ad8S8IEuw/TZo0EQFC8Bv7lUqWLCnbLYhVef/99+V+L3mydad9BKyQSUAf//7772K3wIWLHQZjLgGARNhmzpxZvDHE5hCVi93GsdX07dtXjMu4pin7yiuvqJEjR6phw4aJx6lnz54K4zLRyvXq1ZN6cb3j3WHbAFoVMTN4wurUqSPaFQboBQsWWFdyAsZBenmkFTI+62k0nw0bNog9B00Cz5PjderSpYts5GzdurW4hnEP4+lq06aN6tChg+y7wriMAMIIjeF42bJlUp/bLnWfwWbZ8TEC/wfnZbdZCX4hkQAAAABJRU5ErkJggg==)"
      ]
    },
    {
      "cell_type": "code",
      "metadata": {
        "id": "n5TSQd7LmayP",
        "outputId": "1e3dc1f1-7f96-45ab-e9e0-c8ba78337878",
        "colab": {
          "base_uri": "https://localhost:8080/",
          "height": 34
        }
      },
      "source": [
        "# Heapification does not necessarly implies sorting\n",
        "# ...but a sorted list is always statisfying the heap property\n",
        "import heapq\n",
        "a = [3, 5, 1, 2, 6, 8, 7]\n",
        "heapq.heapify(a)\n",
        "a"
      ],
      "execution_count": 1,
      "outputs": [
        {
          "output_type": "execute_result",
          "data": {
            "text/plain": [
              "[1, 2, 3, 5, 6, 8, 7]"
            ]
          },
          "metadata": {
            "tags": []
          },
          "execution_count": 1
        }
      ]
    },
    {
      "cell_type": "code",
      "metadata": {
        "id": "vgtRdgF2mhRq",
        "outputId": "dad42dc8-5db9-4aec-df95-2a726cf38fd2",
        "colab": {
          "base_uri": "https://localhost:8080/",
          "height": 34
        }
      },
      "source": [
        "# Pops the root of the heap, maintaining the heap property on the list\n",
        "import heapq\n",
        "a = [1, 2, 3, 5, 6, 8, 7]\n",
        "heapq.heappop(a)\n",
        "\n",
        "a"
      ],
      "execution_count": 2,
      "outputs": [
        {
          "output_type": "execute_result",
          "data": {
            "text/plain": [
              "[2, 5, 3, 7, 6, 8]"
            ]
          },
          "metadata": {
            "tags": []
          },
          "execution_count": 2
        }
      ]
    },
    {
      "cell_type": "code",
      "metadata": {
        "id": "WMnfOJAOnfcU",
        "outputId": "34edb6aa-e563-45f9-c0f8-bcd9370c531a",
        "colab": {
          "base_uri": "https://localhost:8080/",
          "height": 34
        }
      },
      "source": [
        "# Push a value to the heap, then pops out a few\n",
        "a = [2, 5, 3, 7, 6, 8]\n",
        "heapq.heappush(a, 4)\n",
        "a\n"
      ],
      "execution_count": 10,
      "outputs": [
        {
          "output_type": "execute_result",
          "data": {
            "text/plain": [
              "[2, 5, 3, 7, 6, 8, 4]"
            ]
          },
          "metadata": {
            "tags": []
          },
          "execution_count": 10
        }
      ]
    },
    {
      "cell_type": "code",
      "metadata": {
        "id": "1gDY24m_oVFp",
        "outputId": "44023403-244d-4bf8-fab6-e30fe803e8b9",
        "colab": {
          "base_uri": "https://localhost:8080/",
          "height": 34
        }
      },
      "source": [
        "heapq.heappop(a)"
      ],
      "execution_count": 11,
      "outputs": [
        {
          "output_type": "execute_result",
          "data": {
            "text/plain": [
              "2"
            ]
          },
          "metadata": {
            "tags": []
          },
          "execution_count": 11
        }
      ]
    },
    {
      "cell_type": "code",
      "metadata": {
        "id": "taZ0fMqGoXtN",
        "outputId": "65d8d2d6-5104-4822-a0da-291dfd86e126",
        "colab": {
          "base_uri": "https://localhost:8080/",
          "height": 34
        }
      },
      "source": [
        "heapq.heappop(a)"
      ],
      "execution_count": 12,
      "outputs": [
        {
          "output_type": "execute_result",
          "data": {
            "text/plain": [
              "3"
            ]
          },
          "metadata": {
            "tags": []
          },
          "execution_count": 12
        }
      ]
    },
    {
      "cell_type": "code",
      "metadata": {
        "id": "DoZ-P3EJocbe",
        "outputId": "144b517b-e812-4244-8385-3d6e2c4dabf8",
        "colab": {
          "base_uri": "https://localhost:8080/",
          "height": 34
        }
      },
      "source": [
        "heapq.heappop(a)"
      ],
      "execution_count": 13,
      "outputs": [
        {
          "output_type": "execute_result",
          "data": {
            "text/plain": [
              "4"
            ]
          },
          "metadata": {
            "tags": []
          },
          "execution_count": 13
        }
      ]
    },
    {
      "cell_type": "code",
      "metadata": {
        "id": "cxnhKTJEodEt",
        "outputId": "fec8a20a-0e75-4012-a621-fddf95e6c183",
        "colab": {
          "base_uri": "https://localhost:8080/",
          "height": 34
        }
      },
      "source": [
        "a"
      ],
      "execution_count": 14,
      "outputs": [
        {
          "output_type": "execute_result",
          "data": {
            "text/plain": [
              "[5, 6, 8, 7]"
            ]
          },
          "metadata": {
            "tags": []
          },
          "execution_count": 14
        }
      ]
    },
    {
      "cell_type": "code",
      "metadata": {
        "id": "XTJFg3tsodj_"
      },
      "source": [
        "# A typical heapq application is for schedulers\n",
        "import datetime\n",
        "import heapq\n",
        "\n",
        "def email(frequency, details):\n",
        "    current = datetime.datetime.now()\n",
        "    while True:\n",
        "        current += frequency\n",
        "        yield current, details\n",
        "\n",
        "# Inputs infinite generators.\n",
        "# Generators are iterators, a kind of iterable you can only iterate over once. \n",
        "# Generators do not store all the values in memory, they generate the values on the fly\n",
        "fast_email = email(datetime.timedelta(minutes=15), \"fast email\")\n",
        "slow_email = email(datetime.timedelta(minutes=40), \"slow email\")\n",
        "\n",
        "unified = heapq.merge(fast_email, slow_email)"
      ],
      "execution_count": 17,
      "outputs": []
    },
    {
      "cell_type": "code",
      "metadata": {
        "id": "qYbITcCVo11P",
        "outputId": "5b4161e8-863c-4ef7-d9f4-d63a1e02cf56",
        "colab": {
          "base_uri": "https://localhost:8080/",
          "height": 193
        }
      },
      "source": [
        "# Print the next ten generators already merged in a heapq\n",
        "for _ in range(10):\n",
        "  print(next(unified))"
      ],
      "execution_count": 25,
      "outputs": [
        {
          "output_type": "stream",
          "text": [
            "(datetime.datetime(2020, 10, 24, 6, 21, 21, 164080), 'fast email')\n",
            "(datetime.datetime(2020, 10, 24, 6, 36, 21, 164080), 'fast email')\n",
            "(datetime.datetime(2020, 10, 24, 6, 51, 21, 164080), 'fast email')\n",
            "(datetime.datetime(2020, 10, 24, 6, 51, 21, 164093), 'slow email')\n",
            "(datetime.datetime(2020, 10, 24, 7, 6, 21, 164080), 'fast email')\n",
            "(datetime.datetime(2020, 10, 24, 7, 21, 21, 164080), 'fast email')\n",
            "(datetime.datetime(2020, 10, 24, 7, 31, 21, 164093), 'slow email')\n",
            "(datetime.datetime(2020, 10, 24, 7, 36, 21, 164080), 'fast email')\n",
            "(datetime.datetime(2020, 10, 24, 7, 51, 21, 164080), 'fast email')\n",
            "(datetime.datetime(2020, 10, 24, 8, 6, 21, 164080), 'fast email')\n"
          ],
          "name": "stdout"
        }
      ]
    },
    {
      "cell_type": "code",
      "metadata": {
        "id": "7fEqn_gYo5AH",
        "outputId": "1f3f789c-66b5-423d-eac9-62223ccd8e4d",
        "colab": {
          "base_uri": "https://localhost:8080/",
          "height": 34
        }
      },
      "source": [
        "datetime.datetime.now()"
      ],
      "execution_count": 27,
      "outputs": [
        {
          "output_type": "execute_result",
          "data": {
            "text/plain": [
              "datetime.datetime(2020, 10, 23, 22, 55, 17, 722678)"
            ]
          },
          "metadata": {
            "tags": []
          },
          "execution_count": 27
        }
      ]
    },
    {
      "cell_type": "markdown",
      "metadata": {
        "id": "ar1NqCW6r70Y"
      },
      "source": [
        "This code uses nsmallest() from the Python heapq module. nsmallest() returns the smallest elements in an iterable and accepts three arguments:\n",
        "\n",
        "* n indicates how many elements to return.\n",
        "* iterable identifies the elements or dataset to compare.\n",
        "* key is a callable function that determines how elements are compared.\n",
        "\n",
        "\n",
        "\n",
        "\n"
      ]
    },
    {
      "cell_type": "code",
      "metadata": {
        "id": "hJJcxZGZrDuw",
        "outputId": "34c39c63-9b9e-4ea9-8e47-7a93a3a9c608",
        "colab": {
          "base_uri": "https://localhost:8080/",
          "height": 69
        }
      },
      "source": [
        "# Heapq for fast ranking\n",
        "import heapq\n",
        "results=\"\"\"\\\n",
        "Christania Williams      11.80\n",
        "Marie-Josee Ta Lou       10.86\n",
        "Elaine Thompson          10.71\n",
        "Tori Bowie               10.83\n",
        "Shelly-Ann Fraser-Pryce  10.86\n",
        "English Gardner          10.94\n",
        "Michelle-Lee Ahye        10.92\n",
        "Dafne Schippers          10.90\n",
        "\"\"\"\n",
        "top_3 = heapq.nsmallest(\n",
        "    3, results.splitlines(), key=lambda x: float(x.split()[-1])\n",
        ")\n",
        "print(\"\\n\".join(top_3))"
      ],
      "execution_count": 28,
      "outputs": [
        {
          "output_type": "stream",
          "text": [
            "Elaine Thompson          10.71\n",
            "Tori Bowie               10.83\n",
            "Marie-Josee Ta Lou       10.86\n"
          ],
          "name": "stdout"
        }
      ]
    },
    {
      "cell_type": "code",
      "metadata": {
        "id": "cjJqtIolrvBn"
      },
      "source": [
        ""
      ],
      "execution_count": null,
      "outputs": []
    }
  ]
}