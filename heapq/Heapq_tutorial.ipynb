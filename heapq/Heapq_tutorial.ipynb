{
  "nbformat": 4,
  "nbformat_minor": 0,
  "metadata": {
    "colab": {
      "name": "Heapq-tutorial.ipynb",
      "provenance": [],
      "authorship_tag": "ABX9TyMuVwe/B41zIP5i/Lq7Hj1B",
      "include_colab_link": true
    },
    "kernelspec": {
      "name": "python3",
      "display_name": "Python 3"
    }
  },
  "cells": [
    {
      "cell_type": "markdown",
      "metadata": {
        "id": "view-in-github",
        "colab_type": "text"
      },
      "source": [
        "<a href=\"https://colab.research.google.com/github/thimotyb/materials/blob/master/heapq/Heapq_tutorial.ipynb\" target=\"_parent\"><img src=\"https://colab.research.google.com/assets/colab-badge.svg\" alt=\"Open In Colab\"/></a>"
      ]
    },
    {
      "cell_type": "markdown",
      "metadata": {
        "id": "7A52WLramddt"
      },
      "source": [
        "## Heapq Tutorial"
      ]
    },
    {
      "cell_type": "code",
      "metadata": {
        "id": "n5TSQd7LmayP",
        "outputId": "1e3dc1f1-7f96-45ab-e9e0-c8ba78337878",
        "colab": {
          "base_uri": "https://localhost:8080/",
          "height": 34
        }
      },
      "source": [
        "import heapq\n",
        "a = [3, 5, 1, 2, 6, 8, 7]\n",
        "heapq.heapify(a)\n",
        "a"
      ],
      "execution_count": 1,
      "outputs": [
        {
          "output_type": "execute_result",
          "data": {
            "text/plain": [
              "[1, 2, 3, 5, 6, 8, 7]"
            ]
          },
          "metadata": {
            "tags": []
          },
          "execution_count": 1
        }
      ]
    },
    {
      "cell_type": "code",
      "metadata": {
        "id": "vgtRdgF2mhRq"
      },
      "source": [
        ""
      ],
      "execution_count": null,
      "outputs": []
    }
  ]
}